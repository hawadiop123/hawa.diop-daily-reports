{
 "cells": [
  {
   "cell_type": "markdown",
   "metadata": {
    "id": "vuZYRaBzbIcs"
   },
   "source": [
    "## Practical 1: Version Control with Git: `local` "
   ]
  },
  {
   "cell_type": "markdown",
   "metadata": {},
   "source": [
    "<left> <b> <span style=\"color:red;\"> \n",
    "This notebook is focused on version control with a local repository. You are expected to go through it line by line, step by step. Execute each code cell and follow the instructions to understand how to manage version control locally. Experiment with commands, make changes, and observe how they affect your repository. Your hands-on interaction with the examples will enhance your comprehension of local version control practices.\n",
    "</span> </b></left>\n",
    "\n",
    "\n",
    "## You might find [this reference](https://ndpsoftware.com/git-cheatsheet.html#loc=index;) ,   [this command list](https://git-scm.com/docs) as well as  this [resource](https://git-scm.com/docs/gittutorial) very useful for this practical."
   ]
  },
  {
   "cell_type": "markdown",
   "metadata": {
    "id": "be02507b"
   },
   "source": [
    "### What is Version Control ?\n",
    "\n",
    "\n",
    "In software development, revision control systems (RCS) are essential tools. They are widely used across all development environments and by developers everywhere.\n",
    "\n",
    "RCS are versatile and not limited to just software projects; they are also invaluable for managing various types of digital content, including manuscripts, figures, data, and notebooks.\n",
    "\n",
    "Revision control systems (RCS) serve two primary purposes:\n",
    "\n",
    "1. **Track Changes in Source Code:**\n",
    "   - Enable tracking and managing changes to the source code.\n",
    "   - Allow reverting to previous versions if issues arise.\n",
    "   - Support working on multiple \"branches\" of the software at the same time.\n",
    "   - Use tags to identify and manage different versions, such as \"release-1.0\" or \"paper-A-final.\"\n",
    "\n",
    "2. **Facilitate Collaborative Development:**\n",
    "   - Allow multiple contributors to work on the same codebase simultaneously.\n",
    "   - Enable numerous authors to make and integrate changes.\n",
    "   - Provide clear communication and visualization of changes to all team members.\n",
    "\n",
    "\n",
    "\n",
    "\n",
    "### Basic Principles and Terminology of Revision Control Systems (RCS)\n",
    "\n",
    "In an RCS, source code or digital content is managed within a repository.\n",
    "\n",
    "- **Repository:** Stores not only the latest version of files but also the complete history of all changes made to these files since their initial addition to the repository.\n",
    "\n",
    "- **Checkout:** Users obtain a local working copy of the files from the repository. Changes are made to these local files, allowing for additions, deletions, and updates.\n",
    "\n",
    "- **Commit:** After completing a task, changes made to the local files are saved back to the repository.\n",
    "\n",
    "- **Conflict Resolution:** If changes have been made by others to the same files, conflicts may arise. The system often resolves conflicts automatically, but manual intervention may be necessary to merge conflicting changes.\n",
    "\n",
    "- **Branches and Forks:** For larger experimental developments, it’s common to create a new branch, fork, or clone of the repository. The primary branch is usually called `master` or `trunk`. Once work on a branch or fork is finished, it can be merged back into the main branch or repository.\n",
    "\n",
    "- **Distributed RCS:** Systems like Git or Mercurial allow for pulling and pushing changesets between different repositories. For instance, changes can be pushed from a local repository to a central online repository, such as those hosted on platforms like GitHub.\n",
    "\n",
    "\n",
    "In a few words, **version control** is a way to keep a backup of the changes in your\n",
    "files and to store a history of those changes.  The key charateristic of VC is that and it\n",
    "allows many people in a collaboration to make changes to the same files\n",
    "concurrently. VC is done via a VC system and there are a lot of them. [Wikipedia](https://en.wikipedia.org/wiki/Version_control)\n",
    "provides both a nice vocabulary list and a fairly complete table of some\n",
    "popular version control systems and their equivalent commands.\n",
    "\n",
    "\n",
    "\n",
    "### Popular Revision Control Systems\n",
    "\n",
    "- **Git (git):** [http://git-scm.com/](http://git-scm.com/)\n",
    "- **Mercurial (hg):** [http://mercurial.selenic.com/](http://mercurial.selenic.com/)\n",
    "\n",
    "In the remainder of this lecture, we will focus on Git. However, Mercurial is equally effective and operates in a very similar manner.\n",
    "\n",
    "We'll be using git. `Git` is an example of a distributed version control system, distinct from centralized versing control systems. I'll not discuss the distinction, but for now, the table below will\n",
    "suffice.\n",
    "\n",
    "Version Control System Tool Options\n",
    "\n",
    "- **Distributed** \n",
    "  - Decentralized CVS (dcvs)  \n",
    "  - mercurial (hg)\n",
    "  - git (git) \n",
    "  - bazaar (bzr)\n",
    "  \n",
    "- **Centralized**\n",
    "  - concurrent versions system (cvs)\n",
    "  - subversion (svn)"
   ]
  },
  {
   "cell_type": "markdown",
   "metadata": {},
   "source": [
    "## git --help : Getting Help\n",
    "\n",
    "The first thing you should know about any **tool** is how to get **help**. From the command line type\n",
    "\n",
    "```bash\n",
    "$ man git\n",
    "```\n",
    "\n",
    "If you remember from the **shell class**, **man** tells you more about a command and how to use it. The manual entry for the git version control system will appear before you. You may scroll through it using arrows, or you can search for\n",
    "keywords by typing **/** followed by the search term. I'm interested in help, so I type **/help** and then hit enter. It looks like the syntax for getting help with git is **git --help**."
   ]
  },
  {
   "cell_type": "code",
   "execution_count": 3,
   "metadata": {},
   "outputs": [
    {
     "name": "stdout",
     "output_type": "stream",
     "text": [
      "usage: git [--version] [--help] [-C <path>] [-c <name>=<value>]\r\n",
      "           [--exec-path[=<path>]] [--html-path] [--man-path] [--info-path]\r\n",
      "           [-p | --paginate | -P | --no-pager] [--no-replace-objects] [--bare]\r\n",
      "           [--git-dir=<path>] [--work-tree=<path>] [--namespace=<name>]\r\n",
      "           <command> [<args>]\r\n",
      "\r\n",
      "These are common Git commands used in various situations:\r\n",
      "\r\n",
      "start a working area (see also: git help tutorial)\r\n",
      "   clone             Clone a repository into a new directory\r\n",
      "   init              Create an empty Git repository or reinitialize an existing one\r\n",
      "\r\n",
      "work on the current change (see also: git help everyday)\r\n",
      "   add               Add file contents to the index\r\n",
      "   mv                Move or rename a file, a directory, or a symlink\r\n",
      "   restore           Restore working tree files\r\n",
      "   rm                Remove files from the working tree and from the index\r\n",
      "   sparse-checkout   Initialize and modify the sparse-checkout\r\n",
      "\r\n",
      "examine the history and state (see also: git help revisions)\r\n",
      "   bisect            Use binary search to find the commit that introduced a bug\r\n",
      "   diff              Show changes between commits, commit and working tree, etc\r\n",
      "   grep              Print lines matching a pattern\r\n",
      "   log               Show commit logs\r\n",
      "   show              Show various types of objects\r\n",
      "   status            Show the working tree status\r\n",
      "\r\n",
      "grow, mark and tweak your common history\r\n",
      "   branch            List, create, or delete branches\r\n",
      "   commit            Record changes to the repository\r\n",
      "   merge             Join two or more development histories together\r\n",
      "   rebase            Reapply commits on top of another base tip\r\n",
      "   reset             Reset current HEAD to the specified state\r\n",
      "   switch            Switch branches\r\n",
      "   tag               Create, list, delete or verify a tag object signed with GPG\r\n",
      "\r\n",
      "collaborate (see also: git help workflows)\r\n",
      "   fetch             Download objects and refs from another repository\r\n",
      "   pull              Fetch from and integrate with another repository or a local branch\r\n",
      "   push              Update remote refs along with associated objects\r\n",
      "\r\n",
      "'git help -a' and 'git help -g' list available subcommands and some\r\n",
      "concept guides. See 'git help <command>' or 'git help <concept>'\r\n",
      "to read about a specific subcommand or concept.\r\n",
      "See 'git help git' for an overview of the system.\r\n"
     ]
    }
   ],
   "source": [
    "! git --help "
   ]
  },
  {
   "cell_type": "markdown",
   "metadata": {
    "id": "fee39700"
   },
   "source": [
    "To exit the manual page, type `q`.\n",
    "\n",
    "Let's see what happens when we type :\n",
    "\n",
    "```bash\n",
    "$ git --help\n",
    "```\n",
    "\n",
    "Excellent, it gives a list of commands it is able to help with, as well as their descriptions.\n",
    "\n",
    "```bash\n",
    "$  git help <command>' for more information on a specific command.\n",
    "```"
   ]
  },
  {
   "cell_type": "code",
   "execution_count": 6,
   "metadata": {},
   "outputs": [
    {
     "name": "stdout",
     "output_type": "stream",
     "text": [
      "GIT-MERGE(1)                      Git Manual                      GIT-MERGE(1)\r\n",
      "\r\n",
      "N\bNA\bAM\bME\bE\r\n",
      "       git-merge - Join two or more development histories together\r\n",
      "\r\n",
      "S\bSY\bYN\bNO\bOP\bPS\bSI\bIS\bS\r\n",
      "       _\bg_\bi_\bt _\bm_\be_\br_\bg_\be [-n] [--stat] [--no-commit] [--squash] [--[no-]edit]\r\n",
      "               [--no-verify] [-s <strategy>] [-X <strategy-option>] [-S[<keyid>]]\r\n",
      "               [--[no-]allow-unrelated-histories]\r\n",
      "               [--[no-]rerere-autoupdate] [-m <msg>] [-F <file>] [<commit>...]\r\n",
      "       _\bg_\bi_\bt _\bm_\be_\br_\bg_\be (--continue | --abort | --quit)\r\n",
      "\r\n",
      "D\bDE\bES\bSC\bCR\bRI\bIP\bPT\bTI\bIO\bON\bN\r\n",
      "       Incorporates changes from the named commits (since the time their\r\n",
      "       histories diverged from the current branch) into the current branch.\r\n",
      "       This command is used by _\bg_\bi_\bt _\bp_\bu_\bl_\bl to incorporate changes from another\r\n",
      "       repository and can be used by hand to merge changes from one branch\r\n",
      "       into another.\r\n",
      "\r\n",
      "       Assume the following history exists and the current branch is \"m\bma\bas\bst\bte\ber\br\":\r\n",
      "\r\n",
      "                     A---B---C topic\r\n",
      "                    /\r\n",
      "               D---E---F---G master\r\n",
      "\r\n",
      "       Then \"g\bgi\bit\bt m\bme\ber\brg\bge\be t\bto\bop\bpi\bic\bc\" will replay the changes made on the t\bto\bop\bpi\bic\bc branch\r\n",
      "       since it diverged from m\bma\bas\bst\bte\ber\br (i.e., E\bE) until its current commit (C\bC) on\r\n",
      "       top of m\bma\bas\bst\bte\ber\br, and record the result in a new commit along with the\r\n",
      "       names of the two parent commits and a log message from the user\r\n",
      "       describing the changes.\r\n",
      "\r\n",
      "                     A---B---C topic\r\n",
      "                    /         \\\r\n",
      "               D---E---F---G---H master\r\n",
      "\r\n",
      "       The second syntax (\"g\bgi\bit\bt m\bme\ber\brg\bge\be -\b--\b-a\bab\bbo\bor\brt\bt\") can only be run after the merge\r\n",
      "       has resulted in conflicts. _\bg_\bi_\bt _\bm_\be_\br_\bg_\be _\b-_\b-_\ba_\bb_\bo_\br_\bt will abort the merge\r\n",
      "       process and try to reconstruct the pre-merge state. However, if there\r\n",
      "       were uncommitted changes when the merge started (and especially if\r\n",
      "       those changes were further modified after the merge was started), _\bg_\bi_\bt\r\n",
      "       _\bm_\be_\br_\bg_\be _\b-_\b-_\ba_\bb_\bo_\br_\bt will in some cases be unable to reconstruct the original\r\n",
      "       (pre-merge) changes. Therefore:\r\n",
      "\r\n",
      "       W\bWa\bar\brn\bni\bin\bng\bg: Running _\bg_\bi_\bt _\bm_\be_\br_\bg_\be with non-trivial uncommitted changes is\r\n",
      "       discouraged: while possible, it may leave you in a state that is hard\r\n",
      "       to back out of in the case of a conflict.\r\n",
      "\r\n",
      "       The third syntax (\"g\bgi\bit\bt m\bme\ber\brg\bge\be -\b--\b-c\bco\bon\bnt\bti\bin\bnu\bue\be\") can only be run after the\r\n",
      "       merge has resulted in conflicts.\r\n",
      "\r\n",
      "O\bOP\bPT\bTI\bIO\bON\bNS\bS\r\n",
      "       --commit, --no-commit\r\n",
      "           Perform the merge and commit the result. This option can be used to\r\n",
      "           override --no-commit.\r\n",
      "\r\n",
      "           With --no-commit perform the merge and stop just before creating a\r\n",
      "           merge commit, to give the user a chance to inspect and further\r\n",
      "           tweak the merge result before committing.\r\n",
      "\r\n",
      "           Note that fast-forward updates do not create a merge commit and\r\n",
      "           therefore there is no way to stop those merges with --no-commit.\r\n",
      "           Thus, if you want to ensure your branch is not changed or updated\r\n",
      "           by the merge command, use --no-ff with --no-commit.\r\n",
      "\r\n",
      "       --edit, -e, --no-edit\r\n",
      "           Invoke an editor before committing successful mechanical merge to\r\n",
      "           further edit the auto-generated merge message, so that the user can\r\n",
      "           explain and justify the merge. The -\b--\b-n\bno\bo-\b-e\bed\bdi\bit\bt option can be used to\r\n",
      "           accept the auto-generated message (this is generally discouraged).\r\n",
      "           The -\b--\b-e\bed\bdi\bit\bt (or -\b-e\be) option is still useful if you are giving a draft\r\n",
      "           message with the -\b-m\bm option from the command line and want to edit\r\n",
      "           it in the editor.\r\n",
      "\r\n",
      "           Older scripts may depend on the historical behaviour of not\r\n",
      "           allowing the user to edit the merge log message. They will see an\r\n",
      "           editor opened when they run g\bgi\bit\bt m\bme\ber\brg\bge\be. To make it easier to adjust\r\n",
      "           such scripts to the updated behaviour, the environment variable\r\n",
      "           G\bGI\bIT\bT_\b_M\bME\bER\bRG\bGE\bE_\b_A\bAU\bUT\bTO\bOE\bED\bDI\bIT\bT can be set to n\bno\bo at the beginning of them.\r\n",
      "\r\n",
      "       --cleanup=<mode>\r\n",
      "           This option determines how the merge message will be cleaned up\r\n",
      "           before committing. See g\bgi\bit\bt-\b-c\bco\bom\bmm\bmi\bit\bt(1) for more details. In addition,\r\n",
      "           if the _\b<_\bm_\bo_\bd_\be_\b> is given a value of s\bsc\bci\bis\bss\bso\bor\brs\bs, scissors will be\r\n",
      "           appended to M\bME\bER\bRG\bGE\bE_\b_M\bMS\bSG\bG before being passed on to the commit\r\n",
      "           machinery in the case of a merge conflict.\r\n",
      "\r\n",
      "       --ff, --no-ff, --ff-only\r\n",
      "           Specifies how a merge is handled when the merged-in history is\r\n",
      "           already a descendant of the current history.  -\b--\b-f\bff\bf is the default\r\n",
      "           unless merging an annotated (and possibly signed) tag that is not\r\n",
      "           stored in its natural place in the r\bre\bef\bfs\bs/\b/t\bta\bag\bgs\bs/\b/ hierarchy, in which\r\n",
      "           case -\b--\b-n\bno\bo-\b-f\bff\bf is assumed.\r\n",
      "\r\n",
      "           With -\b--\b-f\bff\bf, when possible resolve the merge as a fast-forward (only\r\n",
      "           update the branch pointer to match the merged branch; do not create\r\n",
      "           a merge commit). When not possible (when the merged-in history is\r\n",
      "           not a descendant of the current history), create a merge commit.\r\n",
      "\r\n",
      "           With -\b--\b-n\bno\bo-\b-f\bff\bf, create a merge commit in all cases, even when the\r\n",
      "           merge could instead be resolved as a fast-forward.\r\n",
      "\r\n",
      "           With -\b--\b-f\bff\bf-\b-o\bon\bnl\bly\by, resolve the merge as a fast-forward when possible.\r\n",
      "           When not possible, refuse to merge and exit with a non-zero status.\r\n",
      "\r\n",
      "       -S[<keyid>], --gpg-sign[=<keyid>], --no-gpg-sign\r\n",
      "           GPG-sign the resulting merge commit. The k\bke\bey\byi\bid\bd argument is optional\r\n",
      "           and defaults to the committer identity; if specified, it must be\r\n",
      "           stuck to the option without a space.  -\b--\b-n\bno\bo-\b-g\bgp\bpg\bg-\b-s\bsi\big\bgn\bn is useful to\r\n",
      "           countermand both c\bco\bom\bmm\bmi\bit\bt.\b.g\bgp\bpg\bgS\bSi\big\bgn\bn configuration variable, and earlier\r\n",
      "           -\b--\b-g\bgp\bpg\bg-\b-s\bsi\big\bgn\bn.\r\n",
      "\r\n",
      "       --log[=<n>], --no-log\r\n",
      "           In addition to branch names, populate the log message with one-line\r\n",
      "           descriptions from at most <n> actual commits that are being merged.\r\n",
      "           See also g\bgi\bit\bt-\b-f\bfm\bmt\bt-\b-m\bme\ber\brg\bge\be-\b-m\bms\bsg\bg(1).\r\n",
      "\r\n",
      "           With --no-log do not list one-line descriptions from the actual\r\n",
      "           commits being merged.\r\n",
      "\r\n",
      "       --signoff, --no-signoff\r\n",
      "           Add a S\bSi\big\bgn\bne\bed\bd-\b-o\bof\bff\bf-\b-b\bby\by trailer by the committer at the end of the\r\n",
      "           commit log message. The meaning of a signoff depends on the project\r\n",
      "           to which you’re committing. For example, it may certify that the\r\n",
      "           committer has the rights to submit the work under the project’s\r\n",
      "           license or agrees to some contributor representation, such as a\r\n",
      "           Developer Certificate of Origin. (See\r\n",
      "           h\bht\btt\btp\bp:\b:/\b//\b/d\bde\bev\bve\bel\blo\bop\bpe\ber\brc\bce\ber\brt\bti\bif\bfi\bic\bca\bat\bte\be.\b.o\bor\brg\bg for the one used by the Linux\r\n",
      "           kernel and Git projects.) Consult the documentation or leadership\r\n",
      "           of the project to which you’re contributing to understand how the\r\n",
      "           signoffs are used in that project.\r\n",
      "\r\n",
      "           The --no-signoff option can be used to countermand an earlier\r\n",
      "           --signoff option on the command line.\r\n",
      "\r\n",
      "       --stat, -n, --no-stat\r\n",
      "           Show a diffstat at the end of the merge. The diffstat is also\r\n",
      "           controlled by the configuration option merge.stat.\r\n",
      "\r\n",
      "           With -n or --no-stat do not show a diffstat at the end of the\r\n",
      "           merge.\r\n",
      "\r\n",
      "       --squash, --no-squash\r\n",
      "           Produce the working tree and index state as if a real merge\r\n",
      "           happened (except for the merge information), but do not actually\r\n",
      "           make a commit, move the H\bHE\bEA\bAD\bD, or record $\b$G\bGI\bIT\bT_\b_D\bDI\bIR\bR/\b/M\bME\bER\bRG\bGE\bE_\b_H\bHE\bEA\bAD\bD (to\r\n",
      "           cause the next g\bgi\bit\bt c\bco\bom\bmm\bmi\bit\bt command to create a merge commit). This\r\n",
      "           allows you to create a single commit on top of the current branch\r\n",
      "           whose effect is the same as merging another branch (or more in case\r\n",
      "           of an octopus).\r\n",
      "\r\n",
      "           With --no-squash perform the merge and commit the result. This\r\n",
      "           option can be used to override --squash.\r\n",
      "\r\n",
      "           With --squash, --commit is not allowed, and will fail.\r\n",
      "\r\n",
      "       --no-verify\r\n",
      "           This option bypasses the pre-merge and commit-msg hooks. See also\r\n",
      "           g\bgi\bit\bth\bho\boo\bok\bks\bs(5).\r\n",
      "\r\n",
      "       -s <strategy>, --strategy=<strategy>\r\n",
      "           Use the given merge strategy; can be supplied more than once to\r\n",
      "           specify them in the order they should be tried. If there is no -\b-s\bs\r\n",
      "           option, a built-in list of strategies is used instead (_\bg_\bi_\bt\r\n",
      "           _\bm_\be_\br_\bg_\be_\b-_\br_\be_\bc_\bu_\br_\bs_\bi_\bv_\be when merging a single head, _\bg_\bi_\bt _\bm_\be_\br_\bg_\be_\b-_\bo_\bc_\bt_\bo_\bp_\bu_\bs\r\n",
      "           otherwise).\r\n",
      "\r\n",
      "       -X <option>, --strategy-option=<option>\r\n",
      "           Pass merge strategy specific option through to the merge strategy.\r\n",
      "\r\n",
      "       --verify-signatures, --no-verify-signatures\r\n",
      "           Verify that the tip commit of the side branch being merged is\r\n",
      "           signed with a valid key, i.e. a key that has a valid uid: in the\r\n",
      "           default trust model, this means the signing key has been signed by\r\n",
      "           a trusted key. If the tip commit of the side branch is not signed\r\n",
      "           with a valid key, the merge is aborted.\r\n",
      "\r\n",
      "       --summary, --no-summary\r\n",
      "           Synonyms to --stat and --no-stat; these are deprecated and will be\r\n",
      "           removed in the future.\r\n",
      "\r\n",
      "       -q, --quiet\r\n",
      "           Operate quietly. Implies --no-progress.\r\n",
      "\r\n",
      "       -v, --verbose\r\n",
      "           Be verbose.\r\n",
      "\r\n",
      "       --progress, --no-progress\r\n",
      "           Turn progress on/off explicitly. If neither is specified, progress\r\n",
      "           is shown if standard error is connected to a terminal. Note that\r\n",
      "           not all merge strategies may support progress reporting.\r\n",
      "\r\n",
      "       --autostash, --no-autostash\r\n",
      "           Automatically create a temporary stash entry before the operation\r\n",
      "           begins, and apply it after the operation ends. This means that you\r\n",
      "           can run the operation on a dirty worktree. However, use with care:\r\n",
      "           the final stash application after a successful merge might result\r\n",
      "           in non-trivial conflicts.\r\n",
      "\r\n",
      "       --allow-unrelated-histories\r\n",
      "           By default, g\bgi\bit\bt m\bme\ber\brg\bge\be command refuses to merge histories that do\r\n",
      "           not share a common ancestor. This option can be used to override\r\n",
      "           this safety when merging histories of two projects that started\r\n",
      "           their lives independently. As that is a very rare occasion, no\r\n",
      "           configuration variable to enable this by default exists and will\r\n",
      "           not be added.\r\n",
      "\r\n",
      "       -m <msg>\r\n",
      "           Set the commit message to be used for the merge commit (in case one\r\n",
      "           is created).\r\n",
      "\r\n",
      "           If -\b--\b-l\blo\bog\bg is specified, a shortlog of the commits being merged will\r\n",
      "           be appended to the specified message.\r\n",
      "\r\n",
      "           The _\bg_\bi_\bt _\bf_\bm_\bt_\b-_\bm_\be_\br_\bg_\be_\b-_\bm_\bs_\bg command can be used to give a good default\r\n",
      "           for automated _\bg_\bi_\bt _\bm_\be_\br_\bg_\be invocations. The automated message can\r\n",
      "           include the branch description.\r\n",
      "\r\n",
      "       -F <file>, --file=<file>\r\n",
      "           Read the commit message to be used for the merge commit (in case\r\n",
      "           one is created).\r\n",
      "\r\n",
      "           If -\b--\b-l\blo\bog\bg is specified, a shortlog of the commits being merged will\r\n",
      "           be appended to the specified message.\r\n",
      "\r\n",
      "       --rerere-autoupdate, --no-rerere-autoupdate\r\n",
      "           Allow the rerere mechanism to update the index with the result of\r\n",
      "           auto-conflict resolution if possible.\r\n",
      "\r\n",
      "       --overwrite-ignore, --no-overwrite-ignore\r\n",
      "           Silently overwrite ignored files from the merge result. This is the\r\n",
      "           default behavior. Use -\b--\b-n\bno\bo-\b-o\bov\bve\ber\brw\bwr\bri\bit\bte\be-\b-i\big\bgn\bno\bor\bre\be to abort.\r\n",
      "\r\n",
      "       --abort\r\n",
      "           Abort the current conflict resolution process, and try to\r\n",
      "           reconstruct the pre-merge state. If an autostash entry is present,\r\n",
      "           apply it to the worktree.\r\n",
      "\r\n",
      "           If there were uncommitted worktree changes present when the merge\r\n",
      "           started, _\bg_\bi_\bt _\bm_\be_\br_\bg_\be _\b-_\b-_\ba_\bb_\bo_\br_\bt will in some cases be unable to\r\n",
      "           reconstruct these changes. It is therefore recommended to always\r\n",
      "           commit or stash your changes before running _\bg_\bi_\bt _\bm_\be_\br_\bg_\be.\r\n",
      "\r\n",
      "           _\bg_\bi_\bt _\bm_\be_\br_\bg_\be _\b-_\b-_\ba_\bb_\bo_\br_\bt is equivalent to _\bg_\bi_\bt _\br_\be_\bs_\be_\bt _\b-_\b-_\bm_\be_\br_\bg_\be when\r\n",
      "           M\bME\bER\bRG\bGE\bE_\b_H\bHE\bEA\bAD\bD is present unless M\bME\bER\bRG\bGE\bE_\b_A\bAU\bUT\bTO\bOS\bST\bTA\bAS\bSH\bH is also present in\r\n",
      "           which case _\bg_\bi_\bt _\bm_\be_\br_\bg_\be _\b-_\b-_\ba_\bb_\bo_\br_\bt applies the stash entry to the\r\n",
      "           worktree whereas _\bg_\bi_\bt _\br_\be_\bs_\be_\bt _\b-_\b-_\bm_\be_\br_\bg_\be will save the stashed changes in\r\n",
      "           the stash list.\r\n",
      "\r\n",
      "       --quit\r\n",
      "           Forget about the current merge in progress. Leave the index and the\r\n",
      "           working tree as-is. If M\bME\bER\bRG\bGE\bE_\b_A\bAU\bUT\bTO\bOS\bST\bTA\bAS\bSH\bH is present, the stash entry\r\n",
      "           will be saved to the stash list.\r\n",
      "\r\n",
      "       --continue\r\n",
      "           After a _\bg_\bi_\bt _\bm_\be_\br_\bg_\be stops due to conflicts you can conclude the merge\r\n",
      "           by running _\bg_\bi_\bt _\bm_\be_\br_\bg_\be _\b-_\b-_\bc_\bo_\bn_\bt_\bi_\bn_\bu_\be (see \"HOW TO RESOLVE CONFLICTS\"\r\n",
      "           section below).\r\n",
      "\r\n",
      "       <commit>...\r\n",
      "           Commits, usually other branch heads, to merge into our branch.\r\n",
      "           Specifying more than one commit will create a merge with more than\r\n",
      "           two parents (affectionately called an Octopus merge).\r\n",
      "\r\n",
      "           If no commit is given from the command line, merge the\r\n",
      "           remote-tracking branches that the current branch is configured to\r\n",
      "           use as its upstream. See also the configuration section of this\r\n",
      "           manual page.\r\n",
      "\r\n",
      "           When F\bFE\bET\bTC\bCH\bH_\b_H\bHE\bEA\bAD\bD (and no other commit) is specified, the branches\r\n",
      "           recorded in the .\b.g\bgi\bit\bt/\b/F\bFE\bET\bTC\bCH\bH_\b_H\bHE\bEA\bAD\bD file by the previous invocation of\r\n",
      "           g\bgi\bit\bt f\bfe\bet\btc\bch\bh for merging are merged to the current branch.\r\n",
      "\r\n",
      "P\bPR\bRE\bE-\b-M\bME\bER\bRG\bGE\bE C\bCH\bHE\bEC\bCK\bKS\bS\r\n",
      "       Before applying outside changes, you should get your own work in good\r\n",
      "       shape and committed locally, so it will not be clobbered if there are\r\n",
      "       conflicts. See also g\bgi\bit\bt-\b-s\bst\bta\bas\bsh\bh(1). _\bg_\bi_\bt _\bp_\bu_\bl_\bl and _\bg_\bi_\bt _\bm_\be_\br_\bg_\be will stop\r\n",
      "       without doing anything when local uncommitted changes overlap with\r\n",
      "       files that _\bg_\bi_\bt _\bp_\bu_\bl_\bl/_\bg_\bi_\bt _\bm_\be_\br_\bg_\be may need to update.\r\n",
      "\r\n",
      "       To avoid recording unrelated changes in the merge commit, _\bg_\bi_\bt _\bp_\bu_\bl_\bl and\r\n",
      "       _\bg_\bi_\bt _\bm_\be_\br_\bg_\be will also abort if there are any changes registered in the\r\n",
      "       index relative to the H\bHE\bEA\bAD\bD commit. (Special narrow exceptions to this\r\n",
      "       rule may exist depending on which merge strategy is in use, but\r\n",
      "       generally, the index must match HEAD.)\r\n",
      "\r\n",
      "       If all named commits are already ancestors of H\bHE\bEA\bAD\bD, _\bg_\bi_\bt _\bm_\be_\br_\bg_\be will exit\r\n",
      "       early with the message \"Already up to date.\"\r\n",
      "\r\n",
      "F\bFA\bAS\bST\bT-\b-F\bFO\bOR\bRW\bWA\bAR\bRD\bD M\bME\bER\bRG\bGE\bE\r\n",
      "       Often the current branch head is an ancestor of the named commit. This\r\n",
      "       is the most common case especially when invoked from _\bg_\bi_\bt _\bp_\bu_\bl_\bl: you are\r\n",
      "       tracking an upstream repository, you have committed no local changes,\r\n",
      "       and now you want to update to a newer upstream revision. In this case,\r\n",
      "       a new commit is not needed to store the combined history; instead, the\r\n",
      "       H\bHE\bEA\bAD\bD (along with the index) is updated to point at the named commit,\r\n",
      "       without creating an extra merge commit.\r\n",
      "\r\n",
      "       This behavior can be suppressed with the -\b--\b-n\bno\bo-\b-f\bff\bf option.\r\n",
      "\r\n",
      "T\bTR\bRU\bUE\bE M\bME\bER\bRG\bGE\bE\r\n",
      "       Except in a fast-forward merge (see above), the branches to be merged\r\n",
      "       must be tied together by a merge commit that has both of them as its\r\n",
      "       parents.\r\n",
      "\r\n",
      "       A merged version reconciling the changes from all branches to be merged\r\n",
      "       is committed, and your H\bHE\bEA\bAD\bD, index, and working tree are updated to it.\r\n",
      "       It is possible to have modifications in the working tree as long as\r\n",
      "       they do not overlap; the update will preserve them.\r\n",
      "\r\n",
      "       When it is not obvious how to reconcile the changes, the following\r\n",
      "       happens:\r\n",
      "\r\n",
      "        1. The H\bHE\bEA\bAD\bD pointer stays the same.\r\n",
      "\r\n",
      "        2. The M\bME\bER\bRG\bGE\bE_\b_H\bHE\bEA\bAD\bD ref is set to point to the other branch head.\r\n",
      "\r\n",
      "        3. Paths that merged cleanly are updated both in the index file and in\r\n",
      "           your working tree.\r\n",
      "\r\n",
      "        4. For conflicting paths, the index file records up to three versions:\r\n",
      "           stage 1 stores the version from the common ancestor, stage 2 from\r\n",
      "           H\bHE\bEA\bAD\bD, and stage 3 from M\bME\bER\bRG\bGE\bE_\b_H\bHE\bEA\bAD\bD (you can inspect the stages with\r\n",
      "           g\bgi\bit\bt l\bls\bs-\b-f\bfi\bil\ble\bes\bs -\b-u\bu). The working tree files contain the result of the\r\n",
      "           \"merge\" program; i.e. 3-way merge results with familiar conflict\r\n",
      "           markers <\b<<\b<<\b< =\b==\b==\b= >\b>>\b>>\b>.\r\n",
      "\r\n",
      "        5. No other changes are made. In particular, the local modifications\r\n",
      "           you had before you started merge will stay the same and the index\r\n",
      "           entries for them stay as they were, i.e. matching H\bHE\bEA\bAD\bD.\r\n",
      "\r\n",
      "       If you tried a merge which resulted in complex conflicts and want to\r\n",
      "       start over, you can recover with g\bgi\bit\bt m\bme\ber\brg\bge\be -\b--\b-a\bab\bbo\bor\brt\bt.\r\n",
      "\r\n",
      "M\bME\bER\bRG\bGI\bIN\bNG\bG T\bTA\bAG\bG\r\n",
      "       When merging an annotated (and possibly signed) tag, Git always creates\r\n",
      "       a merge commit even if a fast-forward merge is possible, and the commit\r\n",
      "       message template is prepared with the tag message. Additionally, if the\r\n",
      "       tag is signed, the signature check is reported as a comment in the\r\n",
      "       message template. See also g\bgi\bit\bt-\b-t\bta\bag\bg(1).\r\n",
      "\r\n",
      "       When you want to just integrate with the work leading to the commit\r\n",
      "       that happens to be tagged, e.g. synchronizing with an upstream release\r\n",
      "       point, you may not want to make an unnecessary merge commit.\r\n",
      "\r\n",
      "       In such a case, you can \"unwrap\" the tag yourself before feeding it to\r\n",
      "       g\bgi\bit\bt m\bme\ber\brg\bge\be, or pass -\b--\b-f\bff\bf-\b-o\bon\bnl\bly\by when you do not have any work on your own.\r\n",
      "       e.g.\r\n",
      "\r\n",
      "           git fetch origin\r\n",
      "           git merge v1.2.3^0\r\n",
      "           git merge --ff-only v1.2.3\r\n",
      "\r\n",
      "H\bHO\bOW\bW C\bCO\bON\bNF\bFL\bLI\bIC\bCT\bTS\bS A\bAR\bRE\bE P\bPR\bRE\bES\bSE\bEN\bNT\bTE\bED\bD\r\n",
      "       During a merge, the working tree files are updated to reflect the\r\n",
      "       result of the merge. Among the changes made to the common ancestor’s\r\n",
      "       version, non-overlapping ones (that is, you changed an area of the file\r\n",
      "       while the other side left that area intact, or vice versa) are\r\n",
      "       incorporated in the final result verbatim. When both sides made changes\r\n",
      "       to the same area, however, Git cannot randomly pick one side over the\r\n",
      "       other, and asks you to resolve it by leaving what both sides did to\r\n",
      "       that area.\r\n",
      "\r\n",
      "       By default, Git uses the same style as the one used by the \"merge\"\r\n",
      "       program from the RCS suite to present such a conflicted hunk, like\r\n",
      "       this:\r\n",
      "\r\n",
      "           Here are lines that are either unchanged from the common\r\n",
      "           ancestor, or cleanly resolved because only one side changed.\r\n",
      "           <<<<<<< yours:sample.txt\r\n",
      "           Conflict resolution is hard;\r\n",
      "           let's go shopping.\r\n",
      "           =======\r\n",
      "           Git makes conflict resolution easy.\r\n",
      "           >>>>>>> theirs:sample.txt\r\n",
      "           And here is another line that is cleanly resolved or unmodified.\r\n",
      "\r\n",
      "       The area where a pair of conflicting changes happened is marked with\r\n",
      "       markers <\b<<\b<<\b<<\b<<\b<<\b<<\b<, =\b==\b==\b==\b==\b==\b==\b=, and >\b>>\b>>\b>>\b>>\b>>\b>>\b>. The part before the =\b==\b==\b==\b==\b==\b==\b= is\r\n",
      "       typically your side, and the part afterwards is typically their side.\r\n",
      "\r\n",
      "       The default format does not show what the original said in the\r\n",
      "       conflicting area. You cannot tell how many lines are deleted and\r\n",
      "       replaced with Barbie’s remark on your side. The only thing you can tell\r\n",
      "       is that your side wants to say it is hard and you’d prefer to go\r\n",
      "       shopping, while the other side wants to claim it is easy.\r\n",
      "\r\n",
      "       An alternative style can be used by setting the \"merge.conflictStyle\"\r\n",
      "       configuration variable to \"diff3\". In \"diff3\" style, the above conflict\r\n",
      "       may look like this:\r\n",
      "\r\n",
      "           Here are lines that are either unchanged from the common\r\n",
      "           ancestor, or cleanly resolved because only one side changed.\r\n",
      "           <<<<<<< yours:sample.txt\r\n",
      "           Conflict resolution is hard;\r\n",
      "           let's go shopping.\r\n",
      "           |||||||\r\n",
      "           Conflict resolution is hard.\r\n",
      "           =======\r\n",
      "           Git makes conflict resolution easy.\r\n",
      "           >>>>>>> theirs:sample.txt\r\n",
      "           And here is another line that is cleanly resolved or unmodified.\r\n",
      "\r\n",
      "       In addition to the <\b<<\b<<\b<<\b<<\b<<\b<<\b<, =\b==\b==\b==\b==\b==\b==\b=, and >\b>>\b>>\b>>\b>>\b>>\b>>\b> markers, it uses\r\n",
      "       another |\b||\b||\b||\b||\b||\b||\b| marker that is followed by the original text. You can\r\n",
      "       tell that the original just stated a fact, and your side simply gave in\r\n",
      "       to that statement and gave up, while the other side tried to have a\r\n",
      "       more positive attitude. You can sometimes come up with a better\r\n",
      "       resolution by viewing the original.\r\n",
      "\r\n",
      "H\bHO\bOW\bW T\bTO\bO R\bRE\bES\bSO\bOL\bLV\bVE\bE C\bCO\bON\bNF\bFL\bLI\bIC\bCT\bTS\bS\r\n",
      "       After seeing a conflict, you can do two things:\r\n",
      "\r\n",
      "       •   Decide not to merge. The only clean-ups you need are to reset the\r\n",
      "           index file to the H\bHE\bEA\bAD\bD commit to reverse 2. and to clean up working\r\n",
      "           tree changes made by 2. and 3.; g\bgi\bit\bt m\bme\ber\brg\bge\be -\b--\b-a\bab\bbo\bor\brt\bt can be used for\r\n",
      "           this.\r\n",
      "\r\n",
      "       •   Resolve the conflicts. Git will mark the conflicts in the working\r\n",
      "           tree. Edit the files into shape and _\bg_\bi_\bt _\ba_\bd_\bd them to the index. Use\r\n",
      "           _\bg_\bi_\bt _\bc_\bo_\bm_\bm_\bi_\bt or _\bg_\bi_\bt _\bm_\be_\br_\bg_\be _\b-_\b-_\bc_\bo_\bn_\bt_\bi_\bn_\bu_\be to seal the deal. The latter\r\n",
      "           command checks whether there is a (interrupted) merge in progress\r\n",
      "           before calling _\bg_\bi_\bt _\bc_\bo_\bm_\bm_\bi_\bt.\r\n",
      "\r\n",
      "       You can work through the conflict with a number of tools:\r\n",
      "\r\n",
      "       •   Use a mergetool.  g\bgi\bit\bt m\bme\ber\brg\bge\bet\bto\boo\bol\bl to launch a graphical mergetool\r\n",
      "           which will work you through the merge.\r\n",
      "\r\n",
      "       •   Look at the diffs.  g\bgi\bit\bt d\bdi\bif\bff\bf will show a three-way diff,\r\n",
      "           highlighting changes from both the H\bHE\bEA\bAD\bD and M\bME\bER\bRG\bGE\bE_\b_H\bHE\bEA\bAD\bD versions.\r\n",
      "\r\n",
      "       •   Look at the diffs from each branch.  g\bgi\bit\bt l\blo\bog\bg -\b--\b-m\bme\ber\brg\bge\be -\b-p\bp <\b<p\bpa\bat\bth\bh>\b> will\r\n",
      "           show diffs first for the H\bHE\bEA\bAD\bD version and then the M\bME\bER\bRG\bGE\bE_\b_H\bHE\bEA\bAD\bD\r\n",
      "           version.\r\n",
      "\r\n",
      "       •   Look at the originals.  g\bgi\bit\bt s\bsh\bho\bow\bw :\b:1\b1:\b:f\bfi\bil\ble\ben\bna\bam\bme\be shows the common\r\n",
      "           ancestor, g\bgi\bit\bt s\bsh\bho\bow\bw :\b:2\b2:\b:f\bfi\bil\ble\ben\bna\bam\bme\be shows the H\bHE\bEA\bAD\bD version, and g\bgi\bit\bt s\bsh\bho\bow\bw\r\n",
      "           :\b:3\b3:\b:f\bfi\bil\ble\ben\bna\bam\bme\be shows the M\bME\bER\bRG\bGE\bE_\b_H\bHE\bEA\bAD\bD version.\r\n",
      "\r\n",
      "E\bEX\bXA\bAM\bMP\bPL\bLE\bES\bS\r\n",
      "       •   Merge branches f\bfi\bix\bxe\bes\bs and e\ben\bnh\bha\ban\bnc\bce\bem\bme\ben\bnt\bts\bs on top of the current branch,\r\n",
      "           making an octopus merge:\r\n",
      "\r\n",
      "               $ git merge fixes enhancements\r\n",
      "\r\n",
      "       •   Merge branch o\bob\bbs\bso\bol\ble\bet\bte\be into the current branch, using o\bou\bur\brs\bs merge\r\n",
      "           strategy:\r\n",
      "\r\n",
      "               $ git merge -s ours obsolete\r\n",
      "\r\n",
      "       •   Merge branch m\bma\bai\bin\bnt\bt into the current branch, but do not make a new\r\n",
      "           commit automatically:\r\n",
      "\r\n",
      "               $ git merge --no-commit maint\r\n",
      "\r\n",
      "           This can be used when you want to include further changes to the\r\n",
      "           merge, or want to write your own merge commit message.\r\n",
      "\r\n",
      "           You should refrain from abusing this option to sneak substantial\r\n",
      "           changes into a merge commit. Small fixups like bumping\r\n",
      "           release/version name would be acceptable.\r\n",
      "\r\n",
      "M\bME\bER\bRG\bGE\bE S\bST\bTR\bRA\bAT\bTE\bEG\bGI\bIE\bES\bS\r\n",
      "       The merge mechanism (g\bgi\bit\bt m\bme\ber\brg\bge\be and g\bgi\bit\bt p\bpu\bul\bll\bl commands) allows the\r\n",
      "       backend _\bm_\be_\br_\bg_\be _\bs_\bt_\br_\ba_\bt_\be_\bg_\bi_\be_\bs to be chosen with -\b-s\bs option. Some strategies\r\n",
      "       can also take their own options, which can be passed by giving\r\n",
      "       -\b-X\bX<\b<o\bop\bpt\bti\bio\bon\bn>\b> arguments to g\bgi\bit\bt m\bme\ber\brg\bge\be and/or g\bgi\bit\bt p\bpu\bul\bll\bl.\r\n",
      "\r\n",
      "       resolve\r\n",
      "           This can only resolve two heads (i.e. the current branch and\r\n",
      "           another branch you pulled from) using a 3-way merge algorithm. It\r\n",
      "           tries to carefully detect criss-cross merge ambiguities and is\r\n",
      "           considered generally safe and fast.\r\n",
      "\r\n",
      "       recursive\r\n",
      "           This can only resolve two heads using a 3-way merge algorithm. When\r\n",
      "           there is more than one common ancestor that can be used for 3-way\r\n",
      "           merge, it creates a merged tree of the common ancestors and uses\r\n",
      "           that as the reference tree for the 3-way merge. This has been\r\n",
      "           reported to result in fewer merge conflicts without causing\r\n",
      "           mismerges by tests done on actual merge commits taken from Linux\r\n",
      "           2.6 kernel development history. Additionally this can detect and\r\n",
      "           handle merges involving renames, but currently cannot make use of\r\n",
      "           detected copies. This is the default merge strategy when pulling or\r\n",
      "           merging one branch.\r\n",
      "\r\n",
      "           The _\br_\be_\bc_\bu_\br_\bs_\bi_\bv_\be strategy can take the following options:\r\n",
      "\r\n",
      "           ours\r\n",
      "               This option forces conflicting hunks to be auto-resolved\r\n",
      "               cleanly by favoring _\bo_\bu_\br version. Changes from the other tree\r\n",
      "               that do not conflict with our side are reflected in the merge\r\n",
      "               result. For a binary file, the entire contents are taken from\r\n",
      "               our side.\r\n",
      "\r\n",
      "               This should not be confused with the _\bo_\bu_\br_\bs merge strategy, which\r\n",
      "               does not even look at what the other tree contains at all. It\r\n",
      "               discards everything the other tree did, declaring _\bo_\bu_\br history\r\n",
      "               contains all that happened in it.\r\n",
      "\r\n",
      "           theirs\r\n",
      "               This is the opposite of _\bo_\bu_\br_\bs; note that, unlike _\bo_\bu_\br_\bs, there is\r\n",
      "               no _\bt_\bh_\be_\bi_\br_\bs merge strategy to confuse this merge option with.\r\n",
      "\r\n",
      "           patience\r\n",
      "               With this option, _\bm_\be_\br_\bg_\be_\b-_\br_\be_\bc_\bu_\br_\bs_\bi_\bv_\be spends a little extra time to\r\n",
      "               avoid mismerges that sometimes occur due to unimportant\r\n",
      "               matching lines (e.g., braces from distinct functions). Use this\r\n",
      "               when the branches to be merged have diverged wildly. See also\r\n",
      "               g\bgi\bit\bt-\b-d\bdi\bif\bff\bf(1) -\b--\b-p\bpa\bat\bti\bie\ben\bnc\bce\be.\r\n",
      "\r\n",
      "           diff-algorithm=[patience|minimal|histogram|myers]\r\n",
      "               Tells _\bm_\be_\br_\bg_\be_\b-_\br_\be_\bc_\bu_\br_\bs_\bi_\bv_\be to use a different diff algorithm, which\r\n",
      "               can help avoid mismerges that occur due to unimportant matching\r\n",
      "               lines (such as braces from distinct functions). See also g\bgi\bit\bt-\b-\r\n",
      "               d\bdi\bif\bff\bf(1) -\b--\b-d\bdi\bif\bff\bf-\b-a\bal\blg\bgo\bor\bri\bit\bth\bhm\bm.\r\n",
      "\r\n",
      "           ignore-space-change, ignore-all-space, ignore-space-at-eol,\r\n",
      "           ignore-cr-at-eol\r\n",
      "               Treats lines with the indicated type of whitespace change as\r\n",
      "               unchanged for the sake of a three-way merge. Whitespace changes\r\n",
      "               mixed with other changes to a line are not ignored. See also\r\n",
      "               g\bgi\bit\bt-\b-d\bdi\bif\bff\bf(1) -\b-b\bb, -\b-w\bw, -\b--\b-i\big\bgn\bno\bor\bre\be-\b-s\bsp\bpa\bac\bce\be-\b-a\bat\bt-\b-e\beo\bol\bl, and\r\n",
      "               -\b--\b-i\big\bgn\bno\bor\bre\be-\b-c\bcr\br-\b-a\bat\bt-\b-e\beo\bol\bl.\r\n",
      "\r\n",
      "               •   If _\bt_\bh_\be_\bi_\br version only introduces whitespace changes to a\r\n",
      "                   line, _\bo_\bu_\br version is used;\r\n",
      "\r\n",
      "               •   If _\bo_\bu_\br version introduces whitespace changes but _\bt_\bh_\be_\bi_\br\r\n",
      "                   version includes a substantial change, _\bt_\bh_\be_\bi_\br version is\r\n",
      "                   used;\r\n",
      "\r\n",
      "               •   Otherwise, the merge proceeds in the usual way.\r\n",
      "\r\n",
      "           renormalize\r\n",
      "               This runs a virtual check-out and check-in of all three stages\r\n",
      "               of a file when resolving a three-way merge. This option is\r\n",
      "               meant to be used when merging branches with different clean\r\n",
      "               filters or end-of-line normalization rules. See \"Merging\r\n",
      "               branches with differing checkin/checkout attributes\" in\r\n",
      "               g\bgi\bit\bta\bat\btt\btr\bri\bib\bbu\but\bte\bes\bs(5) for details.\r\n",
      "\r\n",
      "           no-renormalize\r\n",
      "               Disables the r\bre\ben\bno\bor\brm\bma\bal\bli\biz\bze\be option. This overrides the\r\n",
      "               m\bme\ber\brg\bge\be.\b.r\bre\ben\bno\bor\brm\bma\bal\bli\biz\bze\be configuration variable.\r\n",
      "\r\n",
      "           no-renames\r\n",
      "               Turn off rename detection. This overrides the m\bme\ber\brg\bge\be.\b.r\bre\ben\bna\bam\bme\bes\bs\r\n",
      "               configuration variable. See also g\bgi\bit\bt-\b-d\bdi\bif\bff\bf(1) -\b--\b-n\bno\bo-\b-r\bre\ben\bna\bam\bme\bes\bs.\r\n",
      "\r\n",
      "           find-renames[=<n>]\r\n",
      "               Turn on rename detection, optionally setting the similarity\r\n",
      "               threshold. This is the default. This overrides the\r\n",
      "               _\bm_\be_\br_\bg_\be_\b._\br_\be_\bn_\ba_\bm_\be_\bs configuration variable. See also g\bgi\bit\bt-\b-d\bdi\bif\bff\bf(1)\r\n",
      "               -\b--\b-f\bfi\bin\bnd\bd-\b-r\bre\ben\bna\bam\bme\bes\bs.\r\n",
      "\r\n",
      "           rename-threshold=<n>\r\n",
      "               Deprecated synonym for f\bfi\bin\bnd\bd-\b-r\bre\ben\bna\bam\bme\bes\bs=\b=<\b<n\bn>\b>.\r\n",
      "\r\n",
      "           subtree[=<path>]\r\n",
      "               This option is a more advanced form of _\bs_\bu_\bb_\bt_\br_\be_\be strategy, where\r\n",
      "               the strategy makes a guess on how two trees must be shifted to\r\n",
      "               match with each other when merging. Instead, the specified path\r\n",
      "               is prefixed (or stripped from the beginning) to make the shape\r\n",
      "               of two trees to match.\r\n",
      "\r\n",
      "       octopus\r\n",
      "           This resolves cases with more than two heads, but refuses to do a\r\n",
      "           complex merge that needs manual resolution. It is primarily meant\r\n",
      "           to be used for bundling topic branch heads together. This is the\r\n",
      "           default merge strategy when pulling or merging more than one\r\n",
      "           branch.\r\n",
      "\r\n",
      "       ours\r\n",
      "           This resolves any number of heads, but the resulting tree of the\r\n",
      "           merge is always that of the current branch head, effectively\r\n",
      "           ignoring all changes from all other branches. It is meant to be\r\n",
      "           used to supersede old development history of side branches. Note\r\n",
      "           that this is different from the -Xours option to the _\br_\be_\bc_\bu_\br_\bs_\bi_\bv_\be\r\n",
      "           merge strategy.\r\n",
      "\r\n",
      "       subtree\r\n",
      "           This is a modified recursive strategy. When merging trees A and B,\r\n",
      "           if B corresponds to a subtree of A, B is first adjusted to match\r\n",
      "           the tree structure of A, instead of reading the trees at the same\r\n",
      "           level. This adjustment is also done to the common ancestor tree.\r\n",
      "\r\n",
      "       With the strategies that use 3-way merge (including the default,\r\n",
      "       _\br_\be_\bc_\bu_\br_\bs_\bi_\bv_\be), if a change is made on both branches, but later reverted on\r\n",
      "       one of the branches, that change will be present in the merged result;\r\n",
      "       some people find this behavior confusing. It occurs because only the\r\n",
      "       heads and the merge base are considered when performing a merge, not\r\n",
      "       the individual commits. The merge algorithm therefore considers the\r\n",
      "       reverted change as no change at all, and substitutes the changed\r\n",
      "       version instead.\r\n",
      "\r\n",
      "C\bCO\bON\bNF\bFI\bIG\bGU\bUR\bRA\bAT\bTI\bIO\bON\bN\r\n",
      "       merge.conflictStyle\r\n",
      "           Specify the style in which conflicted hunks are written out to\r\n",
      "           working tree files upon merge. The default is \"merge\", which shows\r\n",
      "           a <\b<<\b<<\b<<\b<<\b<<\b<<\b< conflict marker, changes made by one side, a =\b==\b==\b==\b==\b==\b==\b=\r\n",
      "           marker, changes made by the other side, and then a >\b>>\b>>\b>>\b>>\b>>\b>>\b> marker.\r\n",
      "           An alternate style, \"diff3\", adds a |\b||\b||\b||\b||\b||\b||\b| marker and the original\r\n",
      "           text before the =\b==\b==\b==\b==\b==\b==\b= marker.\r\n",
      "\r\n",
      "       merge.defaultToUpstream\r\n",
      "           If merge is called without any commit argument, merge the upstream\r\n",
      "           branches configured for the current branch by using their last\r\n",
      "           observed values stored in their remote-tracking branches. The\r\n",
      "           values of the b\bbr\bra\ban\bnc\bch\bh.\b.<\b<c\bcu\bur\brr\bre\ben\bnt\bt b\bbr\bra\ban\bnc\bch\bh>\b>.\b.m\bme\ber\brg\bge\be that name the branches\r\n",
      "           at the remote named by b\bbr\bra\ban\bnc\bch\bh.\b.<\b<c\bcu\bur\brr\bre\ben\bnt\bt b\bbr\bra\ban\bnc\bch\bh>\b>.\b.r\bre\bem\bmo\bot\bte\be are\r\n",
      "           consulted, and then they are mapped via r\bre\bem\bmo\bot\bte\be.\b.<\b<r\bre\bem\bmo\bot\bte\be>\b>.\b.f\bfe\bet\btc\bch\bh to\r\n",
      "           their corresponding remote-tracking branches, and the tips of these\r\n",
      "           tracking branches are merged.\r\n",
      "\r\n",
      "       merge.ff\r\n",
      "           By default, Git does not create an extra merge commit when merging\r\n",
      "           a commit that is a descendant of the current commit. Instead, the\r\n",
      "           tip of the current branch is fast-forwarded. When set to f\bfa\bal\bls\bse\be,\r\n",
      "           this variable tells Git to create an extra merge commit in such a\r\n",
      "           case (equivalent to giving the -\b--\b-n\bno\bo-\b-f\bff\bf option from the command\r\n",
      "           line). When set to o\bon\bnl\bly\by, only such fast-forward merges are allowed\r\n",
      "           (equivalent to giving the -\b--\b-f\bff\bf-\b-o\bon\bnl\bly\by option from the command line).\r\n",
      "\r\n",
      "       merge.verifySignatures\r\n",
      "           If true, this is equivalent to the --verify-signatures command line\r\n",
      "           option. See g\bgi\bit\bt-\b-m\bme\ber\brg\bge\be(1) for details.\r\n",
      "\r\n",
      "       merge.branchdesc\r\n",
      "           In addition to branch names, populate the log message with the\r\n",
      "           branch description text associated with them. Defaults to false.\r\n",
      "\r\n",
      "       merge.log\r\n",
      "           In addition to branch names, populate the log message with at most\r\n",
      "           the specified number of one-line descriptions from the actual\r\n",
      "           commits that are being merged. Defaults to false, and true is a\r\n",
      "           synonym for 20.\r\n",
      "\r\n",
      "       merge.suppressDest\r\n",
      "           By adding a glob that matches the names of integration branches to\r\n",
      "           this multi-valued configuration variable, the default merge message\r\n",
      "           computed for merges into these integration branches will omit \"into\r\n",
      "           <branch name>\" from its title.\r\n",
      "\r\n",
      "           An element with an empty value can be used to clear the list of\r\n",
      "           globs accumulated from previous configuration entries. When there\r\n",
      "           is no m\bme\ber\brg\bge\be.\b.s\bsu\bup\bpp\bpr\bre\bes\bss\bsD\bDe\bes\bst\bt variable defined, the default value of\r\n",
      "           m\bma\bas\bst\bte\ber\br is used for backward compatibility.\r\n",
      "\r\n",
      "       merge.renameLimit\r\n",
      "           The number of files to consider when performing rename detection\r\n",
      "           during a merge; if not specified, defaults to the value of\r\n",
      "           diff.renameLimit. This setting has no effect if rename detection is\r\n",
      "           turned off.\r\n",
      "\r\n",
      "       merge.renames\r\n",
      "           Whether Git detects renames. If set to \"false\", rename detection is\r\n",
      "           disabled. If set to \"true\", basic rename detection is enabled.\r\n",
      "           Defaults to the value of diff.renames.\r\n",
      "\r\n",
      "       merge.directoryRenames\r\n",
      "           Whether Git detects directory renames, affecting what happens at\r\n",
      "           merge time to new files added to a directory on one side of history\r\n",
      "           when that directory was renamed on the other side of history. If\r\n",
      "           merge.directoryRenames is set to \"false\", directory rename\r\n",
      "           detection is disabled, meaning that such new files will be left\r\n",
      "           behind in the old directory. If set to \"true\", directory rename\r\n",
      "           detection is enabled, meaning that such new files will be moved\r\n",
      "           into the new directory. If set to \"conflict\", a conflict will be\r\n",
      "           reported for such paths. If merge.renames is false,\r\n",
      "           merge.directoryRenames is ignored and treated as false. Defaults to\r\n",
      "           \"conflict\".\r\n",
      "\r\n",
      "       merge.renormalize\r\n",
      "           Tell Git that canonical representation of files in the repository\r\n",
      "           has changed over time (e.g. earlier commits record text files with\r\n",
      "           CRLF line endings, but recent ones use LF line endings). In such a\r\n",
      "           repository, Git can convert the data recorded in commits to a\r\n",
      "           canonical form before performing a merge to reduce unnecessary\r\n",
      "           conflicts. For more information, see section \"Merging branches with\r\n",
      "           differing checkin/checkout attributes\" in g\bgi\bit\bta\bat\btt\btr\bri\bib\bbu\but\bte\bes\bs(5).\r\n",
      "\r\n",
      "       merge.stat\r\n",
      "           Whether to print the diffstat between ORIG_HEAD and the merge\r\n",
      "           result at the end of the merge. True by default.\r\n",
      "\r\n",
      "       merge.autoStash\r\n",
      "           When set to true, automatically create a temporary stash entry\r\n",
      "           before the operation begins, and apply it after the operation ends.\r\n",
      "           This means that you can run merge on a dirty worktree. However, use\r\n",
      "           with care: the final stash application after a successful merge\r\n",
      "           might result in non-trivial conflicts. This option can be\r\n",
      "           overridden by the -\b--\b-n\bno\bo-\b-a\bau\but\bto\bos\bst\bta\bas\bsh\bh and -\b--\b-a\bau\but\bto\bos\bst\bta\bas\bsh\bh options of g\bgi\bit\bt-\b-\r\n",
      "           m\bme\ber\brg\bge\be(1). Defaults to false.\r\n",
      "\r\n",
      "       merge.tool\r\n",
      "           Controls which merge tool is used by g\bgi\bit\bt-\b-m\bme\ber\brg\bge\bet\bto\boo\bol\bl(1). The list\r\n",
      "           below shows the valid built-in values. Any other value is treated\r\n",
      "           as a custom merge tool and requires that a corresponding\r\n",
      "           mergetool.<tool>.cmd variable is defined.\r\n",
      "\r\n",
      "       merge.guitool\r\n",
      "           Controls which merge tool is used by g\bgi\bit\bt-\b-m\bme\ber\brg\bge\bet\bto\boo\bol\bl(1) when the\r\n",
      "           -g/--gui flag is specified. The list below shows the valid built-in\r\n",
      "           values. Any other value is treated as a custom merge tool and\r\n",
      "           requires that a corresponding mergetool.<guitool>.cmd variable is\r\n",
      "           defined.\r\n",
      "\r\n",
      "           •   araxis\r\n",
      "\r\n",
      "           •   bc\r\n",
      "\r\n",
      "           •   bc3\r\n",
      "\r\n",
      "           •   bc4\r\n",
      "\r\n",
      "           •   codecompare\r\n",
      "\r\n",
      "           •   deltawalker\r\n",
      "\r\n",
      "           •   diffmerge\r\n",
      "\r\n",
      "           •   diffuse\r\n",
      "\r\n",
      "           •   ecmerge\r\n",
      "\r\n",
      "           •   emerge\r\n",
      "\r\n",
      "           •   examdiff\r\n",
      "\r\n",
      "           •   guiffy\r\n",
      "\r\n",
      "           •   gvimdiff\r\n",
      "\r\n",
      "           •   gvimdiff2\r\n",
      "\r\n",
      "           •   gvimdiff3\r\n",
      "\r\n",
      "           •   kdiff3\r\n",
      "\r\n",
      "           •   meld\r\n",
      "\r\n",
      "           •   nvimdiff\r\n",
      "\r\n",
      "           •   nvimdiff2\r\n",
      "\r\n",
      "           •   nvimdiff3\r\n",
      "\r\n",
      "           •   opendiff\r\n",
      "\r\n",
      "           •   p4merge\r\n",
      "\r\n",
      "           •   smerge\r\n",
      "\r\n",
      "           •   tkdiff\r\n",
      "\r\n",
      "           •   tortoisemerge\r\n",
      "\r\n",
      "           •   vimdiff\r\n",
      "\r\n",
      "           •   vimdiff2\r\n",
      "\r\n",
      "           •   vimdiff3\r\n",
      "\r\n",
      "           •   winmerge\r\n",
      "\r\n",
      "           •   xxdiff\r\n",
      "\r\n",
      "       merge.verbosity\r\n",
      "           Controls the amount of output shown by the recursive merge\r\n",
      "           strategy. Level 0 outputs nothing except a final error message if\r\n",
      "           conflicts were detected. Level 1 outputs only conflicts, 2 outputs\r\n",
      "           conflicts and file changes. Level 5 and above outputs debugging\r\n",
      "           information. The default is level 2. Can be overridden by the\r\n",
      "           G\bGI\bIT\bT_\b_M\bME\bER\bRG\bGE\bE_\b_V\bVE\bER\bRB\bBO\bOS\bSI\bIT\bTY\bY environment variable.\r\n",
      "\r\n",
      "       merge.<driver>.name\r\n",
      "           Defines a human-readable name for a custom low-level merge driver.\r\n",
      "           See g\bgi\bit\bta\bat\btt\btr\bri\bib\bbu\but\bte\bes\bs(5) for details.\r\n",
      "\r\n",
      "       merge.<driver>.driver\r\n",
      "           Defines the command that implements a custom low-level merge\r\n",
      "           driver. See g\bgi\bit\bta\bat\btt\btr\bri\bib\bbu\but\bte\bes\bs(5) for details.\r\n",
      "\r\n",
      "       merge.<driver>.recursive\r\n",
      "           Names a low-level merge driver to be used when performing an\r\n",
      "           internal merge between common ancestors. See g\bgi\bit\bta\bat\btt\btr\bri\bib\bbu\but\bte\bes\bs(5) for\r\n",
      "           details.\r\n",
      "\r\n",
      "       branch.<name>.mergeOptions\r\n",
      "           Sets default options for merging into branch <name>. The syntax and\r\n",
      "           supported options are the same as those of _\bg_\bi_\bt _\bm_\be_\br_\bg_\be, but option\r\n",
      "           values containing whitespace characters are currently not\r\n",
      "           supported.\r\n",
      "\r\n",
      "S\bSE\bEE\bE A\bAL\bLS\bSO\bO\r\n",
      "       g\bgi\bit\bt-\b-f\bfm\bmt\bt-\b-m\bme\ber\brg\bge\be-\b-m\bms\bsg\bg(1), g\bgi\bit\bt-\b-p\bpu\bul\bll\bl(1), g\bgi\bit\bta\bat\btt\btr\bri\bib\bbu\but\bte\bes\bs(5), g\bgi\bit\bt-\b-r\bre\bes\bse\bet\bt(1), g\bgi\bit\bt-\b-\r\n",
      "       d\bdi\bif\bff\bf(1), g\bgi\bit\bt-\b-l\bls\bs-\b-f\bfi\bil\ble\bes\bs(1), g\bgi\bit\bt-\b-a\bad\bdd\bd(1), g\bgi\bit\bt-\b-r\brm\bm(1), g\bgi\bit\bt-\b-m\bme\ber\brg\bge\bet\bto\boo\bol\bl(1)\r\n",
      "\r\n",
      "G\bGI\bIT\bT\r\n",
      "       Part of the g\bgi\bit\bt(1) suite\r\n",
      "\r\n",
      "Git 2.30.2                        08/17/2024                      GIT-MERGE(1)\r\n"
     ]
    }
   ],
   "source": [
    "!git --help merge"
   ]
  },
  {
   "cell_type": "markdown",
   "metadata": {
    "id": "da6e3f66"
   },
   "source": [
    "## git config : Controls the behavior of git\n",
    "A few settings are in order. You don't have to do it now but it is recommanded.\n",
    "\n",
    "```bash\n",
    "$ git config --global user.name \"YOUR NAME\"\n",
    "$ git config --global user.email \"YOUR EMAIL\"\n",
    "```     "
   ]
  },
  {
   "cell_type": "code",
   "execution_count": 7,
   "metadata": {},
   "outputs": [],
   "source": [
    "! git config --global user.name \"HAWA DIOP\""
   ]
  },
  {
   "cell_type": "code",
   "execution_count": 8,
   "metadata": {},
   "outputs": [],
   "source": [
    "! git config --global user.email \"hawa.diop@aims.ac.rw\""
   ]
  },
  {
   "cell_type": "markdown",
   "metadata": {
    "id": "1b56ee4f"
   },
   "source": [
    "## git init : Creating a Local Repository\n",
    "\n",
    "To keep track of numerous versions of your work without saving numerous\n",
    "copies, you can make a local repository for it on your computer. What git\n",
    "does is to save the first version, then for each subsequent version it\n",
    "saves only the changes. This is the trick, git only records the difference between\n",
    "the new version and the one before it. With this compact information,\n",
    "git is able to recreate any version on demand by adding the changes to\n",
    "the original in order up to the version of interest.\n",
    "\n",
    "To create your own local (on your own machine) repository, you must\n",
    "initialize the repository with the infrastructure git needs in order to\n",
    "keep a record of things within the repository that you're concerned\n",
    "about. The command to do this is **git init** ."
   ]
  },
  {
   "cell_type": "code",
   "execution_count": 9,
   "metadata": {},
   "outputs": [
    {
     "name": "stdout",
     "output_type": "stream",
     "text": [
      "\u001b[33mhint: Using 'master' as the name for the initial branch. This default branch name\u001b[m\r\n",
      "\u001b[33mhint: is subject to change. To configure the initial branch name to use in all\u001b[m\r\n",
      "\u001b[33mhint: of your new repositories, which will suppress this warning, call:\u001b[m\r\n",
      "\u001b[33mhint: \u001b[m\r\n",
      "\u001b[33mhint: \tgit config --global init.defaultBranch <name>\u001b[m\r\n",
      "\u001b[33mhint: \u001b[m\r\n",
      "\u001b[33mhint: Names commonly chosen instead of 'master' are 'main', 'trunk' and\u001b[m\r\n",
      "\u001b[33mhint: 'development'. The just-created branch can be renamed via this command:\u001b[m\r\n",
      "\u001b[33mhint: \u001b[m\r\n",
      "\u001b[33mhint: \tgit branch -m <name>\u001b[m\r\n",
      "Initialized empty Git repository in /home/hawa/Downloads/.git/\r\n"
     ]
    }
   ],
   "source": [
    "!git init"
   ]
  },
  {
   "cell_type": "markdown",
   "metadata": {
    "id": "884dc97c"
   },
   "source": [
    "* * * * \n",
    "### Practical : Create a Local Repository\n",
    "\n",
    "Step 1 : Initialize your repository. Navigate to `/home`\n",
    "\n",
    "```bash\n",
    "$ cd\n",
    "$ mkdir simplestats\n",
    "$ cd simplestats\n",
    "$ git init\n",
    "Initialized empty Git repository in /home/me/simplestats/.git/\n",
    "```\n"
   ]
  },
  {
   "cell_type": "code",
   "execution_count": 1,
   "metadata": {},
   "outputs": [
    {
     "name": "stdout",
     "output_type": "stream",
     "text": [
      "/home/hawa\n"
     ]
    }
   ],
   "source": [
    "cd"
   ]
  },
  {
   "cell_type": "code",
   "execution_count": 2,
   "metadata": {},
   "outputs": [
    {
     "name": "stdout",
     "output_type": "stream",
     "text": [
      "/home/hawa\r\n"
     ]
    }
   ],
   "source": [
    "!pwd"
   ]
  },
  {
   "cell_type": "code",
   "execution_count": 25,
   "metadata": {},
   "outputs": [],
   "source": [
    "!mkdir simplestats"
   ]
  },
  {
   "cell_type": "code",
   "execution_count": 2,
   "metadata": {},
   "outputs": [
    {
     "name": "stdout",
     "output_type": "stream",
     "text": [
      "/home/hawa/simplestats\n"
     ]
    }
   ],
   "source": [
    "cd simplestats"
   ]
  },
  {
   "cell_type": "code",
   "execution_count": 27,
   "metadata": {},
   "outputs": [
    {
     "name": "stdout",
     "output_type": "stream",
     "text": [
      "\u001b[33mhint: Using 'master' as the name for the initial branch. This default branch name\u001b[m\r\n",
      "\u001b[33mhint: is subject to change. To configure the initial branch name to use in all\u001b[m\r\n",
      "\u001b[33mhint: of your new repositories, which will suppress this warning, call:\u001b[m\r\n",
      "\u001b[33mhint: \u001b[m\r\n",
      "\u001b[33mhint: \tgit config --global init.defaultBranch <name>\u001b[m\r\n",
      "\u001b[33mhint: \u001b[m\r\n",
      "\u001b[33mhint: Names commonly chosen instead of 'master' are 'main', 'trunk' and\u001b[m\r\n",
      "\u001b[33mhint: 'development'. The just-created branch can be renamed via this command:\u001b[m\r\n",
      "\u001b[33mhint: \u001b[m\r\n",
      "\u001b[33mhint: \tgit branch -m <name>\u001b[m\r\n",
      "Initialized empty Git repository in /home/hawa/simplestats/.git/\r\n"
     ]
    }
   ],
   "source": [
    "!git init"
   ]
  },
  {
   "cell_type": "markdown",
   "metadata": {},
   "source": [
    "Step 2 : Browse the directory's hidden files to see what happened here.\n",
    "Open directories, browse file contents. Learn what you can in a minute.\n",
    "\n",
    "```bash\n",
    "$ ls -A .git\n",
    "$ cd .git\n",
    "$ ls -A\n",
    "HEAD        config      description hooks       info        objects     refs      branches\n",
    "```\n",
    "\n"
   ]
  },
  {
   "cell_type": "code",
   "execution_count": 3,
   "metadata": {},
   "outputs": [
    {
     "name": "stdout",
     "output_type": "stream",
     "text": [
      "branches  description\t    HEAD   info     refs\r\n",
      "config\t  description.save  hooks  objects\r\n"
     ]
    }
   ],
   "source": [
    "!ls -A .git"
   ]
  },
  {
   "cell_type": "code",
   "execution_count": 4,
   "metadata": {},
   "outputs": [
    {
     "name": "stdout",
     "output_type": "stream",
     "text": [
      "/home/hawa/simplestats/.git\n"
     ]
    }
   ],
   "source": [
    "cd .git"
   ]
  },
  {
   "cell_type": "code",
   "execution_count": 5,
   "metadata": {},
   "outputs": [
    {
     "name": "stdout",
     "output_type": "stream",
     "text": [
      "branches  description\t    HEAD   info     refs\r\n",
      "config\t  description.save  hooks  objects\r\n"
     ]
    }
   ],
   "source": [
    "!ls -A"
   ]
  },
  {
   "cell_type": "markdown",
   "metadata": {},
   "source": [
    "Step 3 : Use what you've learned. You may have noticed the file called description. You can describe your repository by opening the description file and replacing the text with a name for the repository.  We will be creating a module with some simple statistical methods, so mine will be called \"Some simple methods for statistical analysis\". You may call yours  anything you like.\n",
    "\n",
    "```bash\n",
    "$ nano description\n",
    "```"
   ]
  },
  {
   "cell_type": "code",
   "execution_count": 6,
   "metadata": {},
   "outputs": [],
   "source": [
    "! gedit description "
   ]
  },
  {
   "cell_type": "markdown",
   "metadata": {},
   "source": [
    "You can use `!tree` or `tree` to display the directory structure in a tree-like format"
   ]
  },
  {
   "cell_type": "code",
   "execution_count": 7,
   "metadata": {},
   "outputs": [
    {
     "name": "stdout",
     "output_type": "stream",
     "text": [
      "\u001b[01;34m.\u001b[00m\r\n",
      "├── \u001b[01;34mbranches\u001b[00m\r\n",
      "├── config\r\n",
      "├── description\r\n",
      "├── description.save\r\n",
      "├── HEAD\r\n",
      "├── \u001b[01;34mhooks\u001b[00m\r\n",
      "│   ├── \u001b[01;32mapplypatch-msg.sample\u001b[00m\r\n",
      "│   ├── \u001b[01;32mcommit-msg.sample\u001b[00m\r\n",
      "│   ├── \u001b[01;32mfsmonitor-watchman.sample\u001b[00m\r\n",
      "│   ├── \u001b[01;32mpost-update.sample\u001b[00m\r\n",
      "│   ├── \u001b[01;32mpre-applypatch.sample\u001b[00m\r\n",
      "│   ├── \u001b[01;32mpre-commit.sample\u001b[00m\r\n",
      "│   ├── \u001b[01;32mpre-merge-commit.sample\u001b[00m\r\n",
      "│   ├── \u001b[01;32mprepare-commit-msg.sample\u001b[00m\r\n",
      "│   ├── \u001b[01;32mpre-push.sample\u001b[00m\r\n",
      "│   ├── \u001b[01;32mpre-rebase.sample\u001b[00m\r\n",
      "│   ├── \u001b[01;32mpre-receive.sample\u001b[00m\r\n",
      "│   ├── \u001b[01;32mpush-to-checkout.sample\u001b[00m\r\n",
      "│   └── \u001b[01;32mupdate.sample\u001b[00m\r\n",
      "├── \u001b[01;34minfo\u001b[00m\r\n",
      "│   └── exclude\r\n",
      "├── \u001b[01;34mobjects\u001b[00m\r\n",
      "│   ├── \u001b[01;34minfo\u001b[00m\r\n",
      "│   └── \u001b[01;34mpack\u001b[00m\r\n",
      "└── \u001b[01;34mrefs\u001b[00m\r\n",
      "    ├── \u001b[01;34mheads\u001b[00m\r\n",
      "    └── \u001b[01;34mtags\u001b[00m\r\n",
      "\r\n",
      "9 directories, 18 files\r\n"
     ]
    }
   ],
   "source": [
    "! tree"
   ]
  },
  {
   "cell_type": "markdown",
   "metadata": {
    "id": "8-rwgD5HbIdj"
   },
   "source": [
    "* * *  *\n",
    "An interesting command I would like you to test is `git status`, I will describe it later but let's see what it displays now.\n",
    "```bash\n",
    "$ git status\n",
    "On branch master\n",
    "\n",
    "No commits yet\n",
    "\n",
    "nothing to commit (create/copy files and use \"git add\" to track)\n",
    "```\n",
    "\n",
    "* * *  *\n"
   ]
  },
  {
   "cell_type": "code",
   "execution_count": 13,
   "metadata": {},
   "outputs": [
    {
     "name": "stdout",
     "output_type": "stream",
     "text": [
      "On branch master\r\n",
      "\r\n",
      "No commits yet\r\n",
      "\r\n",
      "nothing to commit (create/copy files and use \"git add\" to track)\r\n"
     ]
    }
   ],
   "source": [
    "! git status"
   ]
  },
  {
   "cell_type": "markdown",
   "metadata": {
    "id": "bdcfca76"
   },
   "source": [
    "## git add : Adding a File To Version Control\n",
    "\n",
    "For the git repository to know which files within this directory you\n",
    "would like to keep track of, you must add them. First, you'll need to\n",
    "create one, then we'll learn the **git add** command."
   ]
  },
  {
   "cell_type": "markdown",
   "metadata": {
    "id": "a6f520a2"
   },
   "source": [
    "* * * * \n",
    "### Practical : Add a File to Your Local Repository\n",
    "\n",
    "Step 1 : Create a file to add to your repository.\n",
    "\n",
    "```bash\n",
    "$ touch README.md\n",
    "```\n",
    "\n"
   ]
  },
  {
   "cell_type": "code",
   "execution_count": 4,
   "metadata": {},
   "outputs": [],
   "source": [
    "! touch  README.md"
   ]
  },
  {
   "cell_type": "markdown",
   "metadata": {},
   "source": [
    "Step 2: Verify that git has seen the file."
   ]
  },
  {
   "cell_type": "markdown",
   "metadata": {},
   "source": [
    "```bash\n",
    "$ git status\n",
    "# On branch master\n",
    "\n",
    "# No commits yet\n",
    "\n",
    "# Untracked files:\n",
    "#(use \"git add <file>...\" to include in what will be committed) README.md\n",
    "\n",
    "# nothing added to commit but untracked files present (use \"git add\" to track)\n",
    "```"
   ]
  },
  {
   "cell_type": "code",
   "execution_count": 15,
   "metadata": {},
   "outputs": [
    {
     "name": "stdout",
     "output_type": "stream",
     "text": [
      "On branch master\r\n",
      "\r\n",
      "No commits yet\r\n",
      "\r\n",
      "Untracked files:\r\n",
      "  (use \"git add <file>...\" to include in what will be committed)\r\n",
      "\t\u001b[31mREADME.md\u001b[m\r\n",
      "\r\n",
      "nothing added to commit but untracked files present (use \"git add\" to track)\r\n"
     ]
    }
   ],
   "source": [
    "! git status"
   ]
  },
  {
   "cell_type": "markdown",
   "metadata": {},
   "source": [
    "\n",
    "Step 3 : Inform git that you would like to keep track of future changes\n",
    "in this file.\n",
    "\n",
    "```bash\n",
    "$ git add README.md\n",
    "```"
   ]
  },
  {
   "cell_type": "code",
   "execution_count": 5,
   "metadata": {},
   "outputs": [],
   "source": [
    "! git add README.md"
   ]
  },
  {
   "cell_type": "markdown",
   "metadata": {
    "id": "31901d46"
   },
   "source": [
    "## git status : Checking the status of your local copy\n",
    "\n",
    "The files you've created on your machine are your local \"working\" copy.\n",
    "The changes your make in this local copy aren't backed up online\n",
    "automatically. Until you commit them, the changes you make are local\n",
    "changes. When you change anything, your set of files becomes different\n",
    "from the files in the official repository copy. To find out what's\n",
    "different about them in the terminal, try:\n",
    "\n",
    "```bash\n",
    "$ git status\n",
    "# On branch master\n",
    "#\n",
    "# No commits yet\n",
    "#\n",
    "# Changes to be committed:\n",
    "#   (use \"git rm --cached <file>...\" to unstage)\n",
    "#\n",
    "#       new file:   README.md\n",
    "#\n",
    "```\n",
    "\n",
    "The null result means that you're up to date with the current version of\n",
    "the repository online. This result indicates that the current difference\n",
    "between the repository HEAD (which, so far, is empty) and your\n",
    "`simplestats` directory is this new README.md file."
   ]
  },
  {
   "cell_type": "code",
   "execution_count": 17,
   "metadata": {},
   "outputs": [
    {
     "name": "stdout",
     "output_type": "stream",
     "text": [
      "On branch master\r\n",
      "\r\n",
      "No commits yet\r\n",
      "\r\n",
      "Changes to be committed:\r\n",
      "  (use \"git rm --cached <file>...\" to unstage)\r\n",
      "\t\u001b[32mnew file:   README.md\u001b[m\r\n",
      "\r\n"
     ]
    }
   ],
   "source": [
    "! git status"
   ]
  },
  {
   "cell_type": "markdown",
   "metadata": {
    "id": "5c0466af"
   },
   "source": [
    "## git commit : Saving a snapshot\n",
    "\n",
    "In order to save a snapshot of the current state (revision) of the\n",
    "repository, we use the commit command. This command is always associated\n",
    "with a message describing the changes since the last commit and\n",
    "indicating their purpose. Informative commit messages will serve you\n",
    "well someday, so make a habit of never committing changes without at\n",
    "least a full sentence description.\n",
    "\n",
    "**ADVICE: Commit often**\n",
    "\n",
    "In the same way that it is wise to often save a document that you are\n",
    "working on, so too is it wise to save numerous revisions of your code.\n",
    "More frequent commits increase the granularity of your **undo** button.\n",
    "\n",
    "**ADVICE: Good commit messages**\n",
    "\n",
    "There are no hard and fast rules, but good commits are atomic: they are the smallest change that remain meaningful. A good commit message usually contains a one-line description followed by a longer explanation if necessary.\n"
   ]
  },
  {
   "cell_type": "markdown",
   "metadata": {
    "id": "ad25127c"
   },
   "source": [
    "* * * \n",
    "### Practical : Commit Your Changes\n",
    "\n",
    "Step 1 : Commit the file you've added to your repository.\n",
    "\n",
    "```bash\n",
    "$ git commit -am \"This is the first commit. It adds a readme file.\"\n",
    "  [master (root-commit) 664867c] This is the first commit. It adds a readme file.\n",
    "  1 file changed, 0 insertions(+), 0 deletions(-)\n",
    "  create mode 100644 readme.md\n",
    "```  "
   ]
  },
  {
   "cell_type": "code",
   "execution_count": 6,
   "metadata": {},
   "outputs": [
    {
     "name": "stdout",
     "output_type": "stream",
     "text": [
      "[master (root-commit) 372974f] This is the first commit. It adds a readme file.\r\n",
      " 2 files changed, 1 insertion(+)\r\n",
      " create mode 100644 simplestats/README.md\r\n",
      " create mode 100644 simplestats/READYOU.md\r\n"
     ]
    }
   ],
   "source": [
    " !git commit -am \"This is the first commit. It adds a readme file.\""
   ]
  },
  {
   "cell_type": "markdown",
   "metadata": {},
   "source": [
    "Step 2 : Admire your work.\n",
    "\n",
    "```bash\n",
    "$ git status\n",
    "# On branch master\n",
    "nothing to commit, working tree clean\n",
    "```"
   ]
  },
  {
   "cell_type": "code",
   "execution_count": 19,
   "metadata": {},
   "outputs": [
    {
     "name": "stdout",
     "output_type": "stream",
     "text": [
      "On branch master\r\n",
      "nothing to commit, working tree clean\r\n"
     ]
    }
   ],
   "source": [
    "! git status"
   ]
  },
  {
   "cell_type": "markdown",
   "metadata": {
    "id": "46cbed6f"
   },
   "source": [
    "## git diff : Viewing the Differences\n",
    "\n",
    "There are many diff tools.\n",
    "\n",
    "If you have a favorite you can set your default git diff tool to execute that one. Git, however, comes with its own diff system.\n",
    "\n",
    "Let's recall the behavior of the linux [`diff`](https://www.geeksforgeeks.org/diff-command-linux-examples/) command on the command line. The equivalent command for windows is [fc](https://www.howtogeek.com/206123/how-to-use-fc-file-compare-from-the-windows-command-prompt/). Choosing two files that are similar, the command:\n",
    "\n",
    "```bash\n",
    "$!diff file1 file2\n",
    "```\n",
    "\n",
    "will output the lines that differ between the two files. This information can be saved as what's known as a patch, but we won't go deeply into that just now.\n"
   ]
  },
  {
   "cell_type": "markdown",
   "metadata": {},
   "source": [
    "The only difference between the command line diff tool and git's diff tool is that the git tool is aware of all of the revisions in your repository, allowing each revision of each file to be treated as a full file.\n",
    "\n",
    "\n",
    "Thus, git diff will output the changes in your working directory that are not yet staged for a commit. To see how this works, make a change in your `README.md` file, but don't yet commit it.\n",
    "\n",
    "```bash\n",
    "$ git diff\n",
    "```"
   ]
  },
  {
   "cell_type": "code",
   "execution_count": 19,
   "metadata": {},
   "outputs": [],
   "source": [
    "!gedit  README.md"
   ]
  },
  {
   "cell_type": "markdown",
   "metadata": {},
   "source": [
    "A summarized version of this output can be output with the `--stat` flag :\n",
    "\n",
    "```bash\n",
    "$ git diff --stat\n",
    "```"
   ]
  },
  {
   "cell_type": "markdown",
   "metadata": {},
   "source": [
    "To see only the differences in a certain path, try:\n",
    "\n",
    "```bash\n",
    "$ git diff HEAD -- [path]\n",
    "```"
   ]
  },
  {
   "cell_type": "code",
   "execution_count": 3,
   "metadata": {},
   "outputs": [
    {
     "name": "stdout",
     "output_type": "stream",
     "text": [
      "/home/hawa/simplestats\n"
     ]
    }
   ],
   "source": [
    "cd simplestats"
   ]
  },
  {
   "cell_type": "markdown",
   "metadata": {},
   "source": [
    "To see what IS staged for commit (that is, what will be committed if you\n",
    "type git commit without the -a flag), you can try :\n",
    "```bash\n",
    "$ git diff --cached\n",
    "```"
   ]
  },
  {
   "cell_type": "code",
   "execution_count": 4,
   "metadata": {},
   "outputs": [],
   "source": [
    "! git diff --cached"
   ]
  },
  {
   "cell_type": "markdown",
   "metadata": {
    "id": "181eb736"
   },
   "source": [
    "## git log : Viewing the History\n",
    "\n",
    "A log of the commit messages is kept by the repository and can be\n",
    "reviewed with the log command.\n",
    "\n",
    "```bash\n",
    "    $ git log       \n",
    "   commit 664867c42a05461702388310155b785a287d0308 (HEAD -> master)\n",
    "    Author: Techni Preneurs <ai.technipreneurs@gmail.com>\n",
    "    Date:   Wed Sep 11 20:31:07 2024 +0200\n",
    "\n",
    "        This is the first commit. It adds a readme file.    \n",
    "```\n"
   ]
  },
  {
   "cell_type": "code",
   "execution_count": 6,
   "metadata": {},
   "outputs": [
    {
     "name": "stdout",
     "output_type": "stream",
     "text": [
      "\u001b[33mcommit 838cfeecc0583015db428a641fff0973f57c3744\u001b[m\u001b[33m (\u001b[m\u001b[1;36mHEAD -> \u001b[m\u001b[1;32mmaster\u001b[m\u001b[33m)\u001b[m\r\n",
      "Author: HAWA DIOP <hawa.diop@aims.ac.rw>\r\n",
      "Date:   Thu Sep 26 12:28:26 2024 +0200\r\n",
      "\r\n",
      "    This is the first commit. It adds a readme file.\r\n"
     ]
    }
   ],
   "source": [
    "! git log"
   ]
  },
  {
   "cell_type": "markdown",
   "metadata": {},
   "source": [
    "There are some useful flags for this command, such as\n",
    "\n",
    "    -p\n",
    "    -3\n",
    "    --stat\n",
    "    --oneline\n",
    "    --graph\n",
    "    --pretty=short/full/fuller/oneline\n",
    "    --since=X.minutes/hours/days/weeks/months/years or YY-MM-DD-HH:MM\n",
    "    --until=X.minutes/hours/days/weeks/months/years or YY-MM-DD-HH:MM\n",
    "    --author=<pattern>"
   ]
  },
  {
   "cell_type": "markdown",
   "metadata": {
    "id": "8f0edce4"
   },
   "source": [
    "## git reset : Unstaging a staged file\n",
    "\n",
    "There are a number of ways that you may accidentally stage a file that\n",
    "you don't want to commit.  Create a file called `temp_notes` that\n",
    "describes what you had for breakfast, and then add that file to your\n",
    "repo.  Check with `status` to see that it is added but not committed.\n",
    "\n",
    "You can now unstage that file with:\n",
    "\n",
    "```bash\n",
    "$ git reset temp_notes\n",
    "```\n",
    "\n",
    "Check with `status`."
   ]
  },
  {
   "cell_type": "code",
   "execution_count": 24,
   "metadata": {},
   "outputs": [
    {
     "name": "stdout",
     "output_type": "stream",
     "text": [
      "/home/hawa/simplestats\r\n"
     ]
    }
   ],
   "source": [
    "! pwd"
   ]
  },
  {
   "cell_type": "code",
   "execution_count": 25,
   "metadata": {},
   "outputs": [],
   "source": [
    "! touch temp_notes"
   ]
  },
  {
   "cell_type": "code",
   "execution_count": 26,
   "metadata": {},
   "outputs": [],
   "source": [
    "! gedit temp_notes"
   ]
  },
  {
   "cell_type": "code",
   "execution_count": 27,
   "metadata": {},
   "outputs": [],
   "source": [
    "! git add temp_notes"
   ]
  },
  {
   "cell_type": "code",
   "execution_count": 30,
   "metadata": {},
   "outputs": [
    {
     "name": "stdout",
     "output_type": "stream",
     "text": [
      "On branch master\r\n",
      "Changes to be committed:\r\n",
      "  (use \"git restore --staged <file>...\" to unstage)\r\n",
      "\t\u001b[32mnew file:   temp_notes\u001b[m\r\n",
      "\r\n"
     ]
    }
   ],
   "source": [
    "! git status"
   ]
  },
  {
   "cell_type": "code",
   "execution_count": 31,
   "metadata": {},
   "outputs": [],
   "source": [
    "! git reset temp_notes"
   ]
  },
  {
   "cell_type": "markdown",
   "metadata": {
    "id": "f949535f"
   },
   "source": [
    "## git checkout : Discarding unstaged modifications (git checkout has other purposes)\n",
    "\n",
    "Perhaps you have made a number of changes that you realize are not\n",
    "going anywhere.  Add a line to `README.md` that describes your dinner\n",
    "last night.  Check with `status` to see that the file is changed and\n",
    "ready to be added.\n",
    "\n",
    "You can now return to previous checked in version with:\n",
    "```bash\n",
    "$ git checkout -- README.md\n",
    "```\n",
    "Check with `status` and take a look at the file."
   ]
  },
  {
   "cell_type": "code",
   "execution_count": 17,
   "metadata": {},
   "outputs": [],
   "source": [
    " !git checkout -- README.md"
   ]
  },
  {
   "cell_type": "markdown",
   "metadata": {
    "id": "7b00e29e"
   },
   "source": [
    "## git rm : Removing files\n",
    "\n",
    "There are a variety of reasons you way want to remove a file from the\n",
    "repository after it has been committed.  Create a file called `READYOU.md` with the first names of all your immediate family members, and add/commit it to the repository.\n",
    "\n",
    "You can now remove the file from the repository with:\n",
    "\n",
    "```bash\n",
    "$ git rm READYOU.md\n",
    "```\n",
    "List the directory to see that you have no file named `READYOU.md`. Use `status` to determine if you need any additional steps."
   ]
  },
  {
   "cell_type": "code",
   "execution_count": 12,
   "metadata": {},
   "outputs": [],
   "source": [
    "! touch READYOU.md"
   ]
  },
  {
   "cell_type": "code",
   "execution_count": 13,
   "metadata": {},
   "outputs": [],
   "source": [
    "! git add READYOU.md"
   ]
  },
  {
   "cell_type": "code",
   "execution_count": 14,
   "metadata": {},
   "outputs": [],
   "source": [
    "! gedit READYOU.md"
   ]
  },
  {
   "cell_type": "code",
   "execution_count": null,
   "metadata": {},
   "outputs": [],
   "source": [
    "! git commit"
   ]
  },
  {
   "cell_type": "code",
   "execution_count": 8,
   "metadata": {
    "scrolled": true
   },
   "outputs": [
    {
     "name": "stdout",
     "output_type": "stream",
     "text": [
      "rm 'simplestats/READYOU.md'\r\n"
     ]
    }
   ],
   "source": [
    "!git rm READYOU.md"
   ]
  },
  {
   "cell_type": "code",
   "execution_count": null,
   "metadata": {},
   "outputs": [],
   "source": []
  },
  {
   "cell_type": "code",
   "execution_count": null,
   "metadata": {},
   "outputs": [],
   "source": []
  },
  {
   "cell_type": "markdown",
   "metadata": {},
   "source": [
    "What if you delete a file in the shell without `git rm`? Try deleting `README.md`\n",
    "```bash\n",
    "$ rm README.md\n",
    "```\n",
    "\n",
    "\n"
   ]
  },
  {
   "cell_type": "code",
   "execution_count": 10,
   "metadata": {},
   "outputs": [],
   "source": [
    "!rm README.md"
   ]
  },
  {
   "cell_type": "markdown",
   "metadata": {},
   "source": [
    "What does `git status` say?  Oops! How can you recover this important\n",
    "file?\n",
    "```bash\n",
    "$ git checkout -- README.md\n",
    "```"
   ]
  },
  {
   "cell_type": "code",
   "execution_count": 14,
   "metadata": {},
   "outputs": [
    {
     "name": "stdout",
     "output_type": "stream",
     "text": [
      "README.md\r\n"
     ]
    }
   ],
   "source": [
    "!ls"
   ]
  },
  {
   "cell_type": "code",
   "execution_count": 13,
   "metadata": {},
   "outputs": [],
   "source": [
    "!git checkout -- README.md"
   ]
  },
  {
   "cell_type": "markdown",
   "metadata": {
    "id": "1d3ecc05"
   },
   "source": [
    "## git revert : the promised \"undo\" button\n",
    "\n",
    "It is possible that after many commits, you decide that you really want to **rollback** a set of commits and start over.  It is easy to revert your code to a previous version.\n",
    "\n",
    "You can use `git log` and `git diff` to explore your history and determine which version you are interested in.  Choose a version and note the *hash* for that version. (Let's assume `abc456`)\n",
    "\n",
    "```bash\n",
    "$ git revert abc456\n",
    "```\n",
    "\n",
    "**Importantly,** this will not erase the intervening commits.  This will create a new commit that is changed from the previous commit by a change that will recreate the desired version.  This retains a complete provenance of your software, and be compared to the prohibition in removing pages from a lab notebook."
   ]
  },
  {
   "cell_type": "code",
   "execution_count": 18,
   "metadata": {},
   "outputs": [
    {
     "name": "stdout",
     "output_type": "stream",
     "text": [
      "error: your local changes would be overwritten by revert.\r\n",
      "\u001b[33mhint: commit your changes or stash them to proceed.\u001b[m\r\n",
      "fatal: revert failed\r\n"
     ]
    }
   ],
   "source": [
    "!git revert 372974f"
   ]
  },
  {
   "cell_type": "markdown",
   "metadata": {},
   "source": [
    "## Visualize Git Log Tree\n",
    "For this section, you can read the necessary information [here](https://tech.serhatteker.com/post/2021-02/git-log-tree/). The idea is just to make your commits a bit fancy. To really see the beauty of it, try to play with your files and do quite a number of commits.\n",
    "\n",
    "```bash\n",
    "$ git log\n",
    "```\n",
    "\n",
    "or \n",
    "\n",
    "```bash\n",
    "$ git log --pretty=oneline\n",
    "```\n",
    "\n",
    "or\n",
    "\n",
    "```bash\n",
    "$ git log --graph --pretty='%Cred%h%Creset -%C(auto)%d%Creset %s %Cgreen(%cr) %C(bold blue)<%an>%Creset' --all\n",
    "```"
   ]
  },
  {
   "cell_type": "code",
   "execution_count": 16,
   "metadata": {},
   "outputs": [
    {
     "name": "stdout",
     "output_type": "stream",
     "text": [
      "\u001b[33m372974fec35f9dbd9d29c0de5de32c4900e62202\u001b[m\u001b[33m (\u001b[m\u001b[1;36mHEAD -> \u001b[m\u001b[1;32mmaster\u001b[m\u001b[33m)\u001b[m This is the first commit. It adds a readme file.\r\n"
     ]
    }
   ],
   "source": [
    "!git log --pretty=oneline"
   ]
  },
  {
   "cell_type": "code",
   "execution_count": 17,
   "metadata": {},
   "outputs": [
    {
     "name": "stdout",
     "output_type": "stream",
     "text": [
      "* \u001b[31m372974f\u001b[m -\u001b[m\u001b[33m (\u001b[m\u001b[1;36mHEAD -> \u001b[m\u001b[1;32mmaster\u001b[m\u001b[33m)\u001b[m\u001b[m This is the first commit. It adds a readme file. \u001b[32m(3 minutes ago) \u001b[1;34m<HAWA DIOP>\u001b[m\r\n"
     ]
    }
   ],
   "source": [
    "!git log --graph --pretty='%Cred%h%Creset -%C(auto)%d%Creset %s %Cgreen(%cr) %C(bold blue)<%an>%Creset' --all"
   ]
  },
  {
   "cell_type": "markdown",
   "metadata": {
    "id": "a60621d6"
   },
   "source": [
    "* * * *\n",
    "### Exercise :\n",
    "\n",
    "1. Create 5 files in your directory with one line of content in each\n",
    "   file.\n",
    "2. Commit the files to the repository.\n",
    "3. Change 2 of the 5 files and commit them.\n",
    "4. Undo the changes in step 3.\n",
    "5. Print out the last entry in the log.\n",
    "    \n",
    "* * * *"
   ]
  },
  {
   "cell_type": "code",
   "execution_count": 13,
   "metadata": {},
   "outputs": [],
   "source": [
    "! touch file1.txt file2.txt file3.txt file4.txt file5.txt"
   ]
  },
  {
   "cell_type": "code",
   "execution_count": 21,
   "metadata": {},
   "outputs": [
    {
     "name": "stdout",
     "output_type": "stream",
     "text": [
      "file1.txt  file2.txt  file3.txt  file4.txt  file5.txt  README.md\r\n"
     ]
    }
   ],
   "source": [
    "!ls -A"
   ]
  },
  {
   "cell_type": "code",
   "execution_count": 18,
   "metadata": {},
   "outputs": [],
   "source": [
    "! gedit file1.txt file2.txt file3.txt file4.txt file5.txt"
   ]
  },
  {
   "cell_type": "code",
   "execution_count": 19,
   "metadata": {
    "scrolled": true
   },
   "outputs": [],
   "source": [
    "! git add file1.txt file2.txt file3.txt file4.txt file5.txt"
   ]
  },
  {
   "cell_type": "code",
   "execution_count": 20,
   "metadata": {},
   "outputs": [
    {
     "name": "stdout",
     "output_type": "stream",
     "text": [
      "On branch master\r\n",
      "Changes to be committed:\r\n",
      "  (use \"git restore --staged <file>...\" to unstage)\r\n",
      "\t\u001b[32mdeleted:    READYOU.md\u001b[m\r\n",
      "\t\u001b[32mnew file:   file1.txt\u001b[m\r\n",
      "\t\u001b[32mnew file:   file2.txt\u001b[m\r\n",
      "\t\u001b[32mnew file:   file3.txt\u001b[m\r\n",
      "\t\u001b[32mnew file:   file4.txt\u001b[m\r\n",
      "\t\u001b[32mnew file:   file5.txt\u001b[m\r\n",
      "\r\n",
      "Untracked files:\r\n",
      "  (use \"git add <file>...\" to include in what will be committed)\r\n",
      "\t\u001b[31m../.ipynb_checkpoints/\u001b[m\r\n",
      "\t\u001b[31m../AIMS.png\u001b[m\r\n",
      "\t\u001b[31m../Hawa.Rmd\u001b[m\r\n",
      "\t\u001b[31m../Letter To request for AIMS in Rwanda Visa for Students and Tutors 2024-2025 Academic Year (2).pdf\u001b[m\r\n",
      "\t\u001b[31m../Letter To request for AIMS in Rwanda Visa for Students and Tutors 2024-2025 Academic Year (2).zip\u001b[m\r\n",
      "\t\u001b[31m../PS2_pdf_.pdf\u001b[m\r\n",
      "\t\u001b[31m../Passeport.pdf\u001b[m\r\n",
      "\t\u001b[31m../Police_Clearance.pdf\u001b[m\r\n",
      "\t\u001b[31m../Practical_1.ipynb\u001b[m\r\n",
      "\t\u001b[31m../Practical_2.ipynb\u001b[m\r\n",
      "\t\u001b[31m../Rprogramming.pdf\u001b[m\r\n",
      "\t\u001b[31m../S2.pdf\u001b[m\r\n",
      "\t\u001b[31m../_MPS2_pdf_.pdf\u001b[m\r\n",
      "\t\u001b[31m../document.tex\u001b[m\r\n",
      "\t\u001b[31m../graphs.aux\u001b[m\r\n",
      "\t\u001b[31m../graphs.log\u001b[m\r\n",
      "\t\u001b[31m../graphs.pdf\u001b[m\r\n",
      "\t\u001b[31m../graphs.synctex.gz\u001b[m\r\n",
      "\t\u001b[31m../graphs.tex\u001b[m\r\n",
      "\t\u001b[31m../hawa.diop-day00-report.ipynb\u001b[m\r\n",
      "\t\u001b[31m../hawa.diop-day01-repo.ipynb\u001b[m\r\n",
      "\t\u001b[31m../hawa.diop-day01-report.ipynb\u001b[m\r\n",
      "\t\u001b[31m../hawa.diop-day02-report.ipynb\u001b[m\r\n",
      "\t\u001b[31m../hawa.jpg\u001b[m\r\n",
      "\t\u001b[31m../hawa_diop_ICL1.aux\u001b[m\r\n",
      "\t\u001b[31m../hawa_diop_ICL1.log\u001b[m\r\n",
      "\t\u001b[31m../hawa_diop_ICL1.pdf\u001b[m\r\n",
      "\t\u001b[31m../hawa_diop_ICL1.sh\u001b[m\r\n",
      "\t\u001b[31m../hawa_diop_ICL1.synctex.gz\u001b[m\r\n",
      "\t\u001b[31m../hawa_diop_ICL1.tex\u001b[m\r\n",
      "\t\u001b[31m../hawa_diop_MPS2.pdf\u001b[m\r\n",
      "\t\u001b[31m../logo-python.png\u001b[m\r\n",
      "\t\u001b[31m../p_MPS2_pdf_-1.pdf\u001b[m\r\n",
      "\t\u001b[31m../rematerialsfortheiclcourse.zip\u001b[m\r\n",
      "\t\u001b[31m../test-aims-rw-2024-25/\u001b[m\r\n",
      "\t\u001b[31m../version_control_local.ipynb\u001b[m\r\n",
      "\r\n"
     ]
    }
   ],
   "source": [
    "! git status"
   ]
  },
  {
   "cell_type": "code",
   "execution_count": 22,
   "metadata": {},
   "outputs": [
    {
     "name": "stdout",
     "output_type": "stream",
     "text": [
      "[master 706ee76] My new files\r\n",
      " 6 files changed, 5 insertions(+), 1 deletion(-)\r\n",
      " delete mode 100644 simplestats/READYOU.md\r\n",
      " create mode 100644 simplestats/file1.txt\r\n",
      " create mode 100644 simplestats/file2.txt\r\n",
      " create mode 100644 simplestats/file3.txt\r\n",
      " create mode 100644 simplestats/file4.txt\r\n",
      " create mode 100644 simplestats/file5.txt\r\n"
     ]
    }
   ],
   "source": [
    "! git commit -am \"My new files\""
   ]
  },
  {
   "cell_type": "code",
   "execution_count": 24,
   "metadata": {},
   "outputs": [],
   "source": [
    "! gedit file1.txt file2.txt"
   ]
  },
  {
   "cell_type": "code",
   "execution_count": 25,
   "metadata": {},
   "outputs": [
    {
     "name": "stdout",
     "output_type": "stream",
     "text": [
      "On branch master\r\n",
      "Changes not staged for commit:\r\n",
      "  (use \"git add <file>...\" to update what will be committed)\r\n",
      "  (use \"git restore <file>...\" to discard changes in working directory)\r\n",
      "\t\u001b[31mmodified:   file1.txt\u001b[m\r\n",
      "\t\u001b[31mmodified:   file2.txt\u001b[m\r\n",
      "\r\n",
      "Untracked files:\r\n",
      "  (use \"git add <file>...\" to include in what will be committed)\r\n",
      "\t\u001b[31m../.ipynb_checkpoints/\u001b[m\r\n",
      "\t\u001b[31m../AIMS.png\u001b[m\r\n",
      "\t\u001b[31m../Hawa.Rmd\u001b[m\r\n",
      "\t\u001b[31m../Letter To request for AIMS in Rwanda Visa for Students and Tutors 2024-2025 Academic Year (2).pdf\u001b[m\r\n",
      "\t\u001b[31m../Letter To request for AIMS in Rwanda Visa for Students and Tutors 2024-2025 Academic Year (2).zip\u001b[m\r\n",
      "\t\u001b[31m../PS2_pdf_.pdf\u001b[m\r\n",
      "\t\u001b[31m../Passeport.pdf\u001b[m\r\n",
      "\t\u001b[31m../Police_Clearance.pdf\u001b[m\r\n",
      "\t\u001b[31m../Practical_1.ipynb\u001b[m\r\n",
      "\t\u001b[31m../Practical_2.ipynb\u001b[m\r\n",
      "\t\u001b[31m../Rprogramming.pdf\u001b[m\r\n",
      "\t\u001b[31m../S2.pdf\u001b[m\r\n",
      "\t\u001b[31m../_MPS2_pdf_.pdf\u001b[m\r\n",
      "\t\u001b[31m../document.tex\u001b[m\r\n",
      "\t\u001b[31m../graphs.aux\u001b[m\r\n",
      "\t\u001b[31m../graphs.log\u001b[m\r\n",
      "\t\u001b[31m../graphs.pdf\u001b[m\r\n",
      "\t\u001b[31m../graphs.synctex.gz\u001b[m\r\n",
      "\t\u001b[31m../graphs.tex\u001b[m\r\n",
      "\t\u001b[31m../hawa.diop-day00-report.ipynb\u001b[m\r\n",
      "\t\u001b[31m../hawa.diop-day01-repo.ipynb\u001b[m\r\n",
      "\t\u001b[31m../hawa.diop-day01-report.ipynb\u001b[m\r\n",
      "\t\u001b[31m../hawa.diop-day02-report.ipynb\u001b[m\r\n",
      "\t\u001b[31m../hawa.jpg\u001b[m\r\n",
      "\t\u001b[31m../hawa_diop_ICL1.aux\u001b[m\r\n",
      "\t\u001b[31m../hawa_diop_ICL1.log\u001b[m\r\n",
      "\t\u001b[31m../hawa_diop_ICL1.pdf\u001b[m\r\n",
      "\t\u001b[31m../hawa_diop_ICL1.sh\u001b[m\r\n",
      "\t\u001b[31m../hawa_diop_ICL1.synctex.gz\u001b[m\r\n",
      "\t\u001b[31m../hawa_diop_ICL1.tex\u001b[m\r\n",
      "\t\u001b[31m../hawa_diop_MPS2.pdf\u001b[m\r\n",
      "\t\u001b[31m../logo-python.png\u001b[m\r\n",
      "\t\u001b[31m../p_MPS2_pdf_-1.pdf\u001b[m\r\n",
      "\t\u001b[31m../rematerialsfortheiclcourse.zip\u001b[m\r\n",
      "\t\u001b[31m../test-aims-rw-2024-25/\u001b[m\r\n",
      "\t\u001b[31m../version_control_local.ipynb\u001b[m\r\n",
      "\r\n",
      "no changes added to commit (use \"git add\" and/or \"git commit -a\")\r\n"
     ]
    }
   ],
   "source": [
    "!git status"
   ]
  },
  {
   "cell_type": "code",
   "execution_count": 26,
   "metadata": {},
   "outputs": [
    {
     "name": "stdout",
     "output_type": "stream",
     "text": [
      "[master 4efa4b9] My recent edits\r\n",
      " 2 files changed, 2 insertions(+), 2 deletions(-)\r\n"
     ]
    }
   ],
   "source": [
    "! git commit -am \"My recent edits\""
   ]
  },
  {
   "cell_type": "code",
   "execution_count": 27,
   "metadata": {},
   "outputs": [
    {
     "name": "stdout",
     "output_type": "stream",
     "text": [
      "On branch master\r\n",
      "Untracked files:\r\n",
      "  (use \"git add <file>...\" to include in what will be committed)\r\n",
      "\t\u001b[31m../.ipynb_checkpoints/\u001b[m\r\n",
      "\t\u001b[31m../AIMS.png\u001b[m\r\n",
      "\t\u001b[31m../Hawa.Rmd\u001b[m\r\n",
      "\t\u001b[31m../Letter To request for AIMS in Rwanda Visa for Students and Tutors 2024-2025 Academic Year (2).pdf\u001b[m\r\n",
      "\t\u001b[31m../Letter To request for AIMS in Rwanda Visa for Students and Tutors 2024-2025 Academic Year (2).zip\u001b[m\r\n",
      "\t\u001b[31m../PS2_pdf_.pdf\u001b[m\r\n",
      "\t\u001b[31m../Passeport.pdf\u001b[m\r\n",
      "\t\u001b[31m../Police_Clearance.pdf\u001b[m\r\n",
      "\t\u001b[31m../Practical_1.ipynb\u001b[m\r\n",
      "\t\u001b[31m../Practical_2.ipynb\u001b[m\r\n",
      "\t\u001b[31m../Rprogramming.pdf\u001b[m\r\n",
      "\t\u001b[31m../S2.pdf\u001b[m\r\n",
      "\t\u001b[31m../_MPS2_pdf_.pdf\u001b[m\r\n",
      "\t\u001b[31m../document.tex\u001b[m\r\n",
      "\t\u001b[31m../graphs.aux\u001b[m\r\n",
      "\t\u001b[31m../graphs.log\u001b[m\r\n",
      "\t\u001b[31m../graphs.pdf\u001b[m\r\n",
      "\t\u001b[31m../graphs.synctex.gz\u001b[m\r\n",
      "\t\u001b[31m../graphs.tex\u001b[m\r\n",
      "\t\u001b[31m../hawa.diop-day00-report.ipynb\u001b[m\r\n",
      "\t\u001b[31m../hawa.diop-day01-repo.ipynb\u001b[m\r\n",
      "\t\u001b[31m../hawa.diop-day01-report.ipynb\u001b[m\r\n",
      "\t\u001b[31m../hawa.diop-day02-report.ipynb\u001b[m\r\n",
      "\t\u001b[31m../hawa.jpg\u001b[m\r\n",
      "\t\u001b[31m../hawa_diop_ICL1.aux\u001b[m\r\n",
      "\t\u001b[31m../hawa_diop_ICL1.log\u001b[m\r\n",
      "\t\u001b[31m../hawa_diop_ICL1.pdf\u001b[m\r\n",
      "\t\u001b[31m../hawa_diop_ICL1.sh\u001b[m\r\n",
      "\t\u001b[31m../hawa_diop_ICL1.synctex.gz\u001b[m\r\n",
      "\t\u001b[31m../hawa_diop_ICL1.tex\u001b[m\r\n",
      "\t\u001b[31m../hawa_diop_MPS2.pdf\u001b[m\r\n",
      "\t\u001b[31m../logo-python.png\u001b[m\r\n",
      "\t\u001b[31m../p_MPS2_pdf_-1.pdf\u001b[m\r\n",
      "\t\u001b[31m../rematerialsfortheiclcourse.zip\u001b[m\r\n",
      "\t\u001b[31m../test-aims-rw-2024-25/\u001b[m\r\n",
      "\t\u001b[31m../version_control_local.ipynb\u001b[m\r\n",
      "\r\n",
      "nothing added to commit but untracked files present (use \"git add\" to track)\r\n"
     ]
    }
   ],
   "source": [
    "!git status"
   ]
  },
  {
   "cell_type": "markdown",
   "metadata": {
    "id": "15b9e659"
   },
   "source": [
    "## Resources\n",
    "\n",
    "1. [git book](http://git-scm.com/book) - Free and Open"
   ]
  }
 ],
 "metadata": {
  "colab": {
   "provenance": []
  },
  "kernelspec": {
   "display_name": "Python 3",
   "language": "python",
   "name": "python3"
  },
  "language_info": {
   "codemirror_mode": {
    "name": "ipython",
    "version": 3
   },
   "file_extension": ".py",
   "mimetype": "text/x-python",
   "name": "python",
   "nbconvert_exporter": "python",
   "pygments_lexer": "ipython3",
   "version": "3.9.2"
  }
 },
 "nbformat": 4,
 "nbformat_minor": 1
}
