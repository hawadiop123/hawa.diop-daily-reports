{
 "cells": [
  {
   "cell_type": "markdown",
   "id": "cognitive-pound",
   "metadata": {},
   "source": [
    "SUMMATIONS ANS PRODUCTS"
   ]
  },
  {
   "cell_type": "markdown",
   "id": "laughing-manufacturer",
   "metadata": {},
   "source": [
    "1. Compute the following expressions for a natural number n chosen by the user:"
   ]
  },
  {
   "cell_type": "code",
   "execution_count": 49,
   "id": "reserved-accountability",
   "metadata": {},
   "outputs": [
    {
     "name": "stdout",
     "output_type": "stream",
     "text": [
      "enter your number5\n",
      "0\n",
      "1\n",
      "2\n",
      "3\n",
      "4\n",
      "10\n"
     ]
    }
   ],
   "source": [
    "n = int(input(\"enter your number\"))\n",
    "add=0\n",
    "for i in range (n) :\n",
    "    if i % 2 != 0  :\n",
    "        add = add + (i+3)\n",
    "    print(i)\n",
    "print(add)\n",
    "    "
   ]
  },
  {
   "cell_type": "code",
   "execution_count": 43,
   "id": "dedicated-participation",
   "metadata": {},
   "outputs": [
    {
     "name": "stdout",
     "output_type": "stream",
     "text": [
      "enter your number5\n",
      "0\n",
      "1\n",
      "2\n",
      "3\n",
      "4\n",
      "105\n"
     ]
    }
   ],
   "source": [
    "n = int(input(\"enter your number\"))\n",
    "d=0\n",
    "y=1\n",
    "for i in range (n) :\n",
    "    if i % 2 == 0 :\n",
    "        y *= (i+3)\n",
    "    print(i)\n",
    "print(y)\n",
    "      "
   ]
  },
  {
   "cell_type": "markdown",
   "id": "quiet-hearts",
   "metadata": {},
   "source": [
    "2. Write a program that reads the number of the day of the week (from 0 to 6). If it is a\n",
    "working day, then the program will write the name of the corresponding day. Otherwise,\n",
    "it will write the word \"Weekend\"."
   ]
  },
  {
   "cell_type": "code",
   "execution_count": 37,
   "id": "dominican-acquisition",
   "metadata": {},
   "outputs": [
    {
     "name": "stdout",
     "output_type": "stream",
     "text": [
      "enter the day between 0 and 60\n",
      "sunday is a weekend\n"
     ]
    }
   ],
   "source": [
    "d = int(input(\"enter the day between 0 and 6\"))\n",
    "if (d==0):\n",
    "    print(\"sunday is a weekend\")\n",
    "elif (d==1) :\n",
    "    print(\"monday is a working day\")\n",
    "elif (d==2) :\n",
    "    print(\"tuesday is a working day\")\n",
    "elif (d==3) :\n",
    "    print(\"wednesday is a working day\")\n",
    "elif (d==4) :\n",
    "    print(\"thursday is a woirking day\")\n",
    "elif (d==5) :\n",
    "    print(\"friday is a working day\")\n",
    "else :\n",
    "    print(\"saturday is a weekend\")"
   ]
  },
  {
   "cell_type": "markdown",
   "id": "scenic-passing",
   "metadata": {},
   "source": [
    "3.Make a program that, given a month number (from 0 to 11), indicates how many days it\n",
    "has (28, 30 or 31), ignoring the leap years."
   ]
  },
  {
   "cell_type": "code",
   "execution_count": 39,
   "id": "extended-nickel",
   "metadata": {},
   "outputs": [
    {
     "name": "stdout",
     "output_type": "stream",
     "text": [
      "enter the moths from 0 to 1110\n",
      "november have 30 days\n"
     ]
    }
   ],
   "source": [
    "m = int(input(\"enter the moths from 0 to 11\"))\n",
    "if (m==0):\n",
    "    print(\"janaury have 31 days\")\n",
    "elif (m==1) :\n",
    "    print(\"february have 28 days\")\n",
    "elif (m==2) :\n",
    "    print(\"march have 31 days\")\n",
    "elif (m==3) :\n",
    "    print(\"april have 30 days\")\n",
    "elif (m==4) :\n",
    "    print(\"may have 31 days\")\n",
    "elif (m==5) :\n",
    "    print(\"june have 30 days\")\n",
    "elif (m==6) :\n",
    "    print(\"july have 31 days\")    \n",
    "elif (m==7) :\n",
    "    print(\"August have 31 days\")\n",
    "elif (m==8) :\n",
    "    print(\"september have 30 days\")\n",
    "elif (m==9) :\n",
    "    print(\"october have 31 days\")\n",
    "elif (m==10) :\n",
    "    print(\"november have 30 days\")\n",
    "else :\n",
    "    print(\"december have 31 days\")"
   ]
  },
  {
   "cell_type": "markdown",
   "id": "proof-template",
   "metadata": {},
   "source": [
    "4.Write two versions of python code that displays your name 3 times. One version with a\n",
    "\"for loop\" and another version with a \"while loop\"."
   ]
  },
  {
   "cell_type": "code",
   "execution_count": 47,
   "id": "broadband-rhythm",
   "metadata": {},
   "outputs": [
    {
     "name": "stdout",
     "output_type": "stream",
     "text": [
      "Hawa Diop\n",
      "Hawa Diop\n",
      "Hawa Diop\n"
     ]
    }
   ],
   "source": [
    "for i in range(3) :\n",
    "    print(\"Hawa Diop\")"
   ]
  },
  {
   "cell_type": "code",
   "execution_count": 61,
   "id": "documented-machinery",
   "metadata": {},
   "outputs": [
    {
     "name": "stdout",
     "output_type": "stream",
     "text": [
      "Hawa Diop\n",
      "Hawa Diop\n",
      "Hawa Diop\n"
     ]
    }
   ],
   "source": [
    "i = 0\n",
    "while i < 3 :\n",
    "    print(\"Hawa Diop\")\n",
    "    i= i + 1"
   ]
  },
  {
   "cell_type": "markdown",
   "id": "ultimate-forward",
   "metadata": {},
   "source": [
    "5. Given two numbers a0 and a1, the Fibonacci sequence they generate is constructed from\n",
    "the recursion formula an+1 = an + an−1. Calculate the first 15 terms of a Fibonacci\n",
    "sequence, asking the user the initial values."
   ]
  },
  {
   "cell_type": "code",
   "execution_count": 69,
   "id": "turkish-bouquet",
   "metadata": {},
   "outputs": [
    {
     "name": "stdout",
     "output_type": "stream",
     "text": [
      "enter a value for a02\n",
      "enter a valie for a15\n",
      "9959\n"
     ]
    }
   ],
   "source": [
    "a0 = int(input(\"enter a value for a0\"))\n",
    "a1 = int(input(\"enter a valie for a1\"))\n",
    "\n",
    "\n",
    "for i in range(16):\n",
    "    an = a0 + a1\n",
    "    a0=a1\n",
    "    a1=an\n",
    "    \n",
    "print(an)"
   ]
  },
  {
   "cell_type": "markdown",
   "id": "affecting-president",
   "metadata": {},
   "source": [
    "6. Compute the first 30 terms of the sequence defined by 2xn+2 − xn+1 − 6xn = 0 sequence,\n",
    "given any two initial values x0 and x1"
   ]
  },
  {
   "cell_type": "code",
   "execution_count": 71,
   "id": "liquid-century",
   "metadata": {},
   "outputs": [
    {
     "name": "stdout",
     "output_type": "stream",
     "text": [
      "enter a value for a02\n",
      "enter a valie for a18\n",
      "6749563038.387257\n"
     ]
    }
   ],
   "source": [
    "x0 = int(input(\"enter a value for a0\"))\n",
    "x1 = int(input(\"enter a valie for a1\"))\n",
    "\n",
    "for i in range(30):\n",
    "    xn = (6*x0 + x1)/2\n",
    "    x0=x1\n",
    "    x1=xn\n",
    "    \n",
    "print(xn)"
   ]
  },
  {
   "cell_type": "markdown",
   "id": "running-causing",
   "metadata": {},
   "source": [
    "7. a) Write python code to determine whether or not a year is a leap year. Be sure you\n",
    "know what a leap year is."
   ]
  },
  {
   "cell_type": "code",
   "execution_count": 15,
   "id": "decreased-merchandise",
   "metadata": {
    "scrolled": true
   },
   "outputs": [
    {
     "name": "stdout",
     "output_type": "stream",
     "text": [
      "enter a value of the years: 1900\n",
      "the year is not a leap year.\n"
     ]
    }
   ],
   "source": [
    "year = int(input(\"enter a value of the years: \"))\n",
    "if (year % 4 == 0 and year % 100 != 0) or (year%400 == 0):\n",
    "    print(\"the year is a leap year.\")\n",
    "else :\n",
    "    print(\"the year is not a leap year.\")"
   ]
  },
  {
   "cell_type": "markdown",
   "id": "extra-ghost",
   "metadata": {},
   "source": [
    "b) Write the code using only logical operators, i.e. no conditional branching."
   ]
  },
  {
   "cell_type": "code",
   "execution_count": 21,
   "id": "light-pasta",
   "metadata": {},
   "outputs": [
    {
     "name": "stdout",
     "output_type": "stream",
     "text": [
      "enter a value of the years: 2000\n",
      "the year is a leap year.\n"
     ]
    }
   ],
   "source": [
    "year = int(input(\"enter a value of the years: \"))\n",
    "print((year % 4 == 0 and year % 100 != 0) or (year%400 == 0)and \"the year is a leap year.\" or \"the year is not a leap year.\")"
   ]
  },
  {
   "cell_type": "markdown",
   "id": "computational-paintball",
   "metadata": {},
   "source": [
    "8. a) Write python code that computes the sum of the square of the first n natural numbers.\n",
    "One version with a \"for loop\" and another version with a \"while loop\"."
   ]
  },
  {
   "cell_type": "code",
   "execution_count": 11,
   "id": "fresh-incident",
   "metadata": {},
   "outputs": [
    {
     "name": "stdout",
     "output_type": "stream",
     "text": [
      "Please enter n: 5\n",
      "The sum is 30\n"
     ]
    }
   ],
   "source": [
    "#while loop\n",
    "n = int(input(\"Please enter n: \"))\n",
    "\n",
    "s=0\n",
    "i=0\n",
    "while i < n:\n",
    "    s += i ** 2\n",
    "    i += 1\n",
    "print(f\"The sum is {s}\")"
   ]
  },
  {
   "cell_type": "code",
   "execution_count": 10,
   "id": "novel-batch",
   "metadata": {
    "scrolled": true
   },
   "outputs": [
    {
     "name": "stdout",
     "output_type": "stream",
     "text": [
      "Please enter n: 5\n",
      "The sum is: 30\n"
     ]
    }
   ],
   "source": [
    "# for loop\n",
    "n = int(input(\"Please enter n: \"))\n",
    "\n",
    "sm = 0\n",
    "for i in range(n):\n",
    "    sm += i ** 2\n",
    "print(\"The sum is:\", sm)"
   ]
  },
  {
   "cell_type": "markdown",
   "id": "featured-vault",
   "metadata": {},
   "source": [
    "b) Write python code that prints, for a natural number M, the smallest natural number\n",
    "n such that 1\n",
    "\n",
    "2 + 22 +· · ·+n 2 ≥ M. One version with a \"for loop\" and another version\n",
    "\n",
    "with a \"while loop\"."
   ]
  },
  {
   "cell_type": "code",
   "execution_count": 31,
   "id": "endless-chart",
   "metadata": {},
   "outputs": [
    {
     "name": "stdout",
     "output_type": "stream",
     "text": [
      "Please enter M: 2\n",
      "The s is n: 2\n"
     ]
    }
   ],
   "source": [
    "#while loop\n",
    "M = int(input(\"Please enter M: \"))\n",
    "s = 0\n",
    "n = 0\n",
    "while s < M:\n",
    "        n = n + 1\n",
    "        s = s+ n*n\n",
    "print(\"the smallest n is :\", n)"
   ]
  },
  {
   "cell_type": "code",
   "execution_count": 43,
   "id": "foster-ratio",
   "metadata": {},
   "outputs": [
    {
     "name": "stdout",
     "output_type": "stream",
     "text": [
      "Please enter M: 6\n",
      "3\n"
     ]
    }
   ],
   "source": [
    "#for loop\n",
    "M = int(input(\"Please enter M: \"))\n",
    "s = 0\n",
    "for n in range(1, i+1):\n",
    "    s=s+n*n\n",
    "    if s>=M:\n",
    "        break\n",
    "print(n)"
   ]
  },
  {
   "cell_type": "markdown",
   "id": "modular-webster",
   "metadata": {},
   "source": [
    "9. a) Write python code that prints all the divisors of a given natural number."
   ]
  },
  {
   "cell_type": "code",
   "execution_count": 47,
   "id": "deluxe-reviewer",
   "metadata": {},
   "outputs": [
    {
     "name": "stdout",
     "output_type": "stream",
     "text": [
      "enter your number: 16\n",
      "1\n",
      "2\n",
      "4\n",
      "8\n",
      "16\n"
     ]
    }
   ],
   "source": [
    "M = int(input(\"enter your number: \"))\n",
    "for i in range(1, M+1): \n",
    "    if M % i==0:\n",
    "        print(i)"
   ]
  },
  {
   "cell_type": "markdown",
   "id": "national-sussex",
   "metadata": {},
   "source": [
    "10. Read an integer number between n 0 and 9 and print its multiplication table up to N\n",
    "where N is another another natural number read by the program."
   ]
  },
  {
   "cell_type": "code",
   "execution_count": 86,
   "id": "centered-romantic",
   "metadata": {},
   "outputs": [
    {
     "name": "stdout",
     "output_type": "stream",
     "text": [
      "Please enter n: 2\n",
      "Please enter N: 7\n",
      "0 * 2 = 0\n",
      "1 * 2 = 2\n",
      "2 * 2 = 4\n",
      "3 * 2 = 6\n",
      "4 * 2 = 8\n",
      "5 * 2 = 10\n",
      "6 * 2 = 12\n",
      "7 * 2 = 14\n"
     ]
    }
   ],
   "source": [
    "n = int(input(\"Please enter n: \"))\n",
    "N = int(input(\"Please enter N: \"))\n",
    "\n",
    "i = 0\n",
    "while i <= N:\n",
    "    print(f\"{i} * {n} = {i * n}\")\n",
    "    i += 1"
   ]
  },
  {
   "cell_type": "markdown",
   "id": "legendary-border",
   "metadata": {},
   "source": [
    "11.Write a program that prints all the numbers between 0 and 40 that are multiples of 3, 7\n",
    "or 11."
   ]
  },
  {
   "cell_type": "code",
   "execution_count": 93,
   "id": "false-dublin",
   "metadata": {},
   "outputs": [
    {
     "name": "stdout",
     "output_type": "stream",
     "text": [
      "0\n",
      "3\n",
      "6\n",
      "7\n",
      "9\n",
      "12\n",
      "14\n",
      "15\n",
      "18\n",
      "21\n",
      "24\n",
      "27\n",
      "28\n",
      "30\n",
      "33\n",
      "35\n",
      "36\n",
      "39\n"
     ]
    }
   ],
   "source": [
    "for i in range(40):\n",
    "    if( i % 3 == 0 or i % 7 == 0 or 11 == 0):\n",
    "        print(i)"
   ]
  },
  {
   "cell_type": "markdown",
   "id": "front-reservation",
   "metadata": {},
   "source": [
    "12. Write python code that prints the floor of a float x. Recall that the floor of a float x is the\n",
    "largest integer value less than or equal to x, i.e. if E[x] is the floor of x, then it satisfies,\n",
    "\n",
    "E[x] = 1 + E[x − 1]"
   ]
  },
  {
   "cell_type": "code",
   "execution_count": 50,
   "id": "valuable-portable",
   "metadata": {},
   "outputs": [
    {
     "name": "stdout",
     "output_type": "stream",
     "text": [
      "Please enter n: 16.9\n",
      "16\n"
     ]
    }
   ],
   "source": [
    "n = float(input(\"Please enter n: \"))\n",
    "b = int(n)\n",
    "print(b)"
   ]
  },
  {
   "cell_type": "code",
   "execution_count": null,
   "id": "weekly-peace",
   "metadata": {},
   "outputs": [],
   "source": []
  }
 ],
 "metadata": {
  "kernelspec": {
   "display_name": "Python 3",
   "language": "python",
   "name": "python3"
  },
  "language_info": {
   "codemirror_mode": {
    "name": "ipython",
    "version": 3
   },
   "file_extension": ".py",
   "mimetype": "text/x-python",
   "name": "python",
   "nbconvert_exporter": "python",
   "pygments_lexer": "ipython3",
   "version": "3.9.2"
  }
 },
 "nbformat": 4,
 "nbformat_minor": 5
}
