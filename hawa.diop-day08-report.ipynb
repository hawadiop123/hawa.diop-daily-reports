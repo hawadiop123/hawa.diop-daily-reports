{
 "cells": [
  {
   "cell_type": "markdown",
   "id": "confidential-shelf",
   "metadata": {},
   "source": [
    "1.Create a function find_max() that accepts two numeric inputs and returns the greater value. Avoid using the built-in max() function."
   ]
  },
  {
   "cell_type": "code",
   "execution_count": 4,
   "id": "south-plenty",
   "metadata": {},
   "outputs": [
    {
     "name": "stdout",
     "output_type": "stream",
     "text": [
      "25\n"
     ]
    }
   ],
   "source": [
    "def find_max(a,b):\n",
    "    if a>b :\n",
    "        return a\n",
    "    else :\n",
    "        return b\n",
    "result = find_max(5,25)\n",
    "print(result)"
   ]
  },
  {
   "cell_type": "markdown",
   "id": "stuffed-florida",
   "metadata": {},
   "source": [
    "2.Develop a function find_max_of_three() to find the maximum among three given numbers."
   ]
  },
  {
   "cell_type": "code",
   "execution_count": 9,
   "id": "parallel-voice",
   "metadata": {},
   "outputs": [
    {
     "name": "stdout",
     "output_type": "stream",
     "text": [
      "100\n"
     ]
    }
   ],
   "source": [
    "def find_m(a,b,c):\n",
    "    if (a>b and a>c):\n",
    "        return a\n",
    "    elif(b>a and b>c):\n",
    "        return b\n",
    "    else :\n",
    "        return c\n",
    "result = find_m(8,100,52)\n",
    "print(result)  \n",
    "    "
   ]
  },
  {
   "cell_type": "markdown",
   "id": "formal-portrait",
   "metadata": {},
   "source": [
    "3.Write a function to manually calculate the length of a given list or string without using len()."
   ]
  },
  {
   "cell_type": "code",
   "execution_count": 91,
   "id": "unable-exemption",
   "metadata": {},
   "outputs": [
    {
     "name": "stdout",
     "output_type": "stream",
     "text": [
      "4\n"
     ]
    }
   ],
   "source": [
    "def manual_lengenth():\n",
    "    manual_lengenth = [\"h\",\"a\", \"w\", \"a\"]\n",
    "    count = 0\n",
    "    for i in manual_lengenth :\n",
    "        count +=1\n",
    "    print(count)\n",
    "manual_lengenth()      \n",
    "     "
   ]
  },
  {
   "cell_type": "markdown",
   "id": "passing-bailey",
   "metadata": {},
   "source": [
    "4.Implement a function that checks if a given character is a vowel (a, e, i, o, u)."
   ]
  },
  {
   "cell_type": "code",
   "execution_count": 94,
   "id": "ready-tongue",
   "metadata": {},
   "outputs": [
    {
     "name": "stdout",
     "output_type": "stream",
     "text": [
      "enter your charactera\n",
      "True\n"
     ]
    }
   ],
   "source": [
    "def vowel(s):\n",
    "    vowels = 'aeiouy'\n",
    "    if s in vowels:\n",
    "        return True\n",
    "    else :\n",
    "        return False\n",
    "s = input(\"enter your character\") \n",
    "print(vowel(s))"
   ]
  },
  {
   "cell_type": "markdown",
   "id": "above-orange",
   "metadata": {},
   "source": [
    "6.Create sum_elements() and product_elements() functions to sum and multiply all elements in a list, respectively."
   ]
  },
  {
   "cell_type": "code",
   "execution_count": 56,
   "id": "celtic-facility",
   "metadata": {},
   "outputs": [
    {
     "data": {
      "text/plain": [
       "12"
      ]
     },
     "execution_count": 56,
     "metadata": {},
     "output_type": "execute_result"
    }
   ],
   "source": [
    "def sum_elements(List):\n",
    "    s = 0\n",
    "    for i in range(len(List)) :\n",
    "        s = s+List[i]\n",
    "    return(s)\n",
    "sum_elements([1, 2, 9])"
   ]
  },
  {
   "cell_type": "code",
   "execution_count": 39,
   "id": "apart-depth",
   "metadata": {},
   "outputs": [
    {
     "data": {
      "text/plain": [
       "60"
      ]
     },
     "execution_count": 39,
     "metadata": {},
     "output_type": "execute_result"
    }
   ],
   "source": [
    "def product_elements(List):\n",
    "    p = 1\n",
    "    for i in range(len(List)) :\n",
    "        p =p*List[i]\n",
    "    return(p)\n",
    "product_elements([10, 2, 3])"
   ]
  },
  {
   "cell_type": "markdown",
   "id": "average-homeless",
   "metadata": {},
   "source": [
    "7.Define a function reverse_string() to reverse the characters in a given string."
   ]
  },
  {
   "cell_type": "code",
   "execution_count": 48,
   "id": "mental-phone",
   "metadata": {},
   "outputs": [
    {
     "data": {
      "text/plain": [
       "'esuoh'"
      ]
     },
     "execution_count": 48,
     "metadata": {},
     "output_type": "execute_result"
    }
   ],
   "source": [
    "def reverse_string():\n",
    "    the_string = \"house\"\n",
    "    return the_string[::-1]\n",
    "    reverse_string = reverse_string(the_string)\n",
    "    print(the_string)\n",
    "    print(reversed_string )\n",
    "reverse_string()"
   ]
  },
  {
   "cell_type": "markdown",
   "id": "automated-moment",
   "metadata": {},
   "source": [
    "9.Develop a function check_membership() to determine if a value exists within a list."
   ]
  },
  {
   "cell_type": "code",
   "execution_count": 70,
   "id": "expensive-hospital",
   "metadata": {},
   "outputs": [
    {
     "name": "stdout",
     "output_type": "stream",
     "text": [
      "True\n"
     ]
    }
   ],
   "source": [
    "def check_membership(value, List):\n",
    "    return value in List\n",
    "List = [1, 7, 12, 19]\n",
    "print(check_membership(19, List))\n"
   ]
  },
  {
   "cell_type": "markdown",
   "id": "norman-wyoming",
   "metadata": {},
   "source": [
    "10.Write check_overlap() to identify if two lists share any elements."
   ]
  },
  {
   "cell_type": "code",
   "execution_count": 89,
   "id": "sacred-multiple",
   "metadata": {},
   "outputs": [
    {
     "name": "stdout",
     "output_type": "stream",
     "text": [
      "True\n"
     ]
    }
   ],
   "source": [
    "def check_overlap(List1, List2):\n",
    "    return any(element in List1 for element in List2)\n",
    "List1 = [1, 2, 3, 15]\n",
    "List2 = [4, 5, 6, 15]\n",
    "print(check_overlap(List1, List2))"
   ]
  },
  {
   "cell_type": "code",
   "execution_count": null,
   "id": "organized-warner",
   "metadata": {},
   "outputs": [],
   "source": []
  }
 ],
 "metadata": {
  "kernelspec": {
   "display_name": "Python 3",
   "language": "python",
   "name": "python3"
  },
  "language_info": {
   "codemirror_mode": {
    "name": "ipython",
    "version": 3
   },
   "file_extension": ".py",
   "mimetype": "text/x-python",
   "name": "python",
   "nbconvert_exporter": "python",
   "pygments_lexer": "ipython3",
   "version": "3.9.2"
  }
 },
 "nbformat": 4,
 "nbformat_minor": 5
}
