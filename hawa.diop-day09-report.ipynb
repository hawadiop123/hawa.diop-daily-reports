{
 "cells": [
  {
   "cell_type": "markdown",
   "id": "outer-reputation",
   "metadata": {},
   "source": [
    "# PyPro: challenge 1"
   ]
  },
  {
   "cell_type": "markdown",
   "id": "confidential-shelf",
   "metadata": {},
   "source": [
    "1.Create a function find_max() that accepts two numeric inputs and returns the greater value. Avoid using the built-in max() function."
   ]
  },
  {
   "cell_type": "code",
   "execution_count": 3,
   "id": "south-plenty",
   "metadata": {},
   "outputs": [
    {
     "name": "stdout",
     "output_type": "stream",
     "text": [
      "25\n"
     ]
    }
   ],
   "source": [
    "def find_max(a,b): # this code is used to find the max between two number\n",
    "    if a>b :\n",
    "        return a\n",
    "    else :\n",
    "        return b\n",
    "result = find_max(5,25)\n",
    "print(result)"
   ]
  },
  {
   "cell_type": "markdown",
   "id": "stuffed-florida",
   "metadata": {},
   "source": [
    "2.Develop a function find_max_of_three() to find the maximum among three given numbers."
   ]
  },
  {
   "cell_type": "code",
   "execution_count": 7,
   "id": "parallel-voice",
   "metadata": {},
   "outputs": [
    {
     "name": "stdout",
     "output_type": "stream",
     "text": [
      "100\n"
     ]
    }
   ],
   "source": [
    "def find_m(a,b,c): # this code is used to find the max between three number\n",
    "    if (a>b and a>c):  \n",
    "        return a\n",
    "    elif(b>a and b>c):\n",
    "        return b\n",
    "    else :\n",
    "        return c\n",
    "result = find_m(8,100,52)\n",
    "print(result)  \n",
    "    "
   ]
  },
  {
   "cell_type": "markdown",
   "id": "formal-portrait",
   "metadata": {},
   "source": [
    "3.Write a function to manually calculate the length of a given list or string without using len()."
   ]
  },
  {
   "cell_type": "code",
   "execution_count": 20,
   "id": "unable-exemption",
   "metadata": {},
   "outputs": [
    {
     "name": "stdout",
     "output_type": "stream",
     "text": [
      "4\n"
     ]
    }
   ],
   "source": [
    "# we are going to use a name with 4 lettres.\n",
    "def manual_lengenth():\n",
    "    manual_lengenth = [\"h\",\"a\", \"w\", \"a\"]\n",
    "    count = 0\n",
    "    for i in manual_lengenth :\n",
    "        count +=1\n",
    "    print(count)\n",
    "manual_lengenth()      \n",
    "     "
   ]
  },
  {
   "cell_type": "markdown",
   "id": "passing-bailey",
   "metadata": {},
   "source": [
    "4.Implement a function that checks if a given character is a vowel (a, e, i, o, u)."
   ]
  },
  {
   "cell_type": "code",
   "execution_count": 21,
   "id": "ready-tongue",
   "metadata": {},
   "outputs": [
    {
     "name": "stdout",
     "output_type": "stream",
     "text": [
      "enter your characteru\n",
      "True\n"
     ]
    }
   ],
   "source": [
    "#let's determine the vowels {aeiou}\n",
    "# this function checkes the type of the character\n",
    "def vowel(s):\n",
    "    vowels = 'aeiou'\n",
    "    if s in vowels:\n",
    "        return True\n",
    "    else :\n",
    "        return False\n",
    "s = input(\"enter your character\") \n",
    "print(vowel(s))"
   ]
  },
  {
   "cell_type": "markdown",
   "id": "above-orange",
   "metadata": {},
   "source": [
    "6.Create sum_elements() and product_elements() functions to sum and multiply all elements in a list, respectively."
   ]
  },
  {
   "cell_type": "code",
   "execution_count": 56,
   "id": "celtic-facility",
   "metadata": {},
   "outputs": [
    {
     "data": {
      "text/plain": [
       "12"
      ]
     },
     "execution_count": 56,
     "metadata": {},
     "output_type": "execute_result"
    }
   ],
   "source": [
    "def sum_elements(List):\n",
    "    s = 0\n",
    "    for i in range(len(List)) :\n",
    "        s = s+List[i] \n",
    "    return(s)\n",
    "sum_elements([1, 2, 9])"
   ]
  },
  {
   "cell_type": "code",
   "execution_count": 39,
   "id": "apart-depth",
   "metadata": {},
   "outputs": [
    {
     "data": {
      "text/plain": [
       "60"
      ]
     },
     "execution_count": 39,
     "metadata": {},
     "output_type": "execute_result"
    }
   ],
   "source": [
    "def product_elements(List):\n",
    "    p = 1\n",
    "    for i in range(len(List)) :\n",
    "        p =p*List[i]\n",
    "    return(p)\n",
    "product_elements([10, 2, 3])"
   ]
  },
  {
   "cell_type": "markdown",
   "id": "average-homeless",
   "metadata": {},
   "source": [
    "7.Define a function reverse_string() to reverse the characters in a given string."
   ]
  },
  {
   "cell_type": "code",
   "execution_count": 13,
   "id": "integral-agreement",
   "metadata": {},
   "outputs": [
    {
     "name": "stdout",
     "output_type": "stream",
     "text": [
      "enter your charactershouse\n"
     ]
    },
    {
     "data": {
      "text/plain": [
       "'esuoh'"
      ]
     },
     "execution_count": 13,
     "metadata": {},
     "output_type": "execute_result"
    }
   ],
   "source": [
    "def reverse_string():\n",
    "    the_string = input(\"enter your characters\")\n",
    "    return the_string[::-1]\n",
    "    reverse_string = reverse_string(the_string)\n",
    "    print(the_string)\n",
    "    print(reversed_string )\n",
    "reverse_string()"
   ]
  },
  {
   "cell_type": "markdown",
   "id": "automated-moment",
   "metadata": {},
   "source": [
    "9.Develop a function check_membership() to determine if a value exists within a list."
   ]
  },
  {
   "cell_type": "code",
   "execution_count": 70,
   "id": "expensive-hospital",
   "metadata": {},
   "outputs": [
    {
     "name": "stdout",
     "output_type": "stream",
     "text": [
      "True\n"
     ]
    }
   ],
   "source": [
    "def check_membership(value, List):\n",
    "    return value in List\n",
    "List = [1, 7, 12, 19]\n",
    "print(check_membership(19, List))\n"
   ]
  },
  {
   "cell_type": "markdown",
   "id": "norman-wyoming",
   "metadata": {},
   "source": [
    "10.Write check_overlap() to identify if two lists share any elements."
   ]
  },
  {
   "cell_type": "code",
   "execution_count": 34,
   "id": "sacred-multiple",
   "metadata": {},
   "outputs": [
    {
     "name": "stdout",
     "output_type": "stream",
     "text": [
      "True\n"
     ]
    }
   ],
   "source": [
    "def check_overlap(List1, List2):\n",
    "    return any(element in List1 for element in List2)\n",
    "List1 = [1, 2, 3, 15]\n",
    "List2 = [4, 5, 6, 15]\n",
    "print(check_overlap(List1, List2))"
   ]
  },
  {
   "cell_type": "markdown",
   "id": "optimum-stream",
   "metadata": {},
   "source": [
    "12.Create a function print_histogram() that takes a list of integers and prints a corresponding histogram."
   ]
  },
  {
   "cell_type": "code",
   "execution_count": 44,
   "id": "yellow-automation",
   "metadata": {
    "scrolled": true
   },
   "outputs": [],
   "source": [
    "def print_histogram(value):\n",
    "    for value in values:\n",
    "        print('*' * value)\n",
    "        List =[20, 30, 50, 60]\n",
    "    print_histogram(\"List\")"
   ]
  },
  {
   "cell_type": "markdown",
   "id": "useful-screening",
   "metadata": {},
   "source": [
    "13.Write find_max_in_list() to identify the largest number in a list of arbitrary length."
   ]
  },
  {
   "cell_type": "code",
   "execution_count": 45,
   "id": "refined-history",
   "metadata": {},
   "outputs": [
    {
     "name": "stdout",
     "output_type": "stream",
     "text": [
      "50\n"
     ]
    }
   ],
   "source": [
    "def find_max_in_list(List):\n",
    "    return max(element)\n",
    "List = [1, 7, 10, 15, 50] # this fonction give the max between all numbers in this list\n",
    "print(max(List))"
   ]
  },
  {
   "cell_type": "markdown",
   "id": "settled-funds",
   "metadata": {},
   "source": [
    "20.Create a translation function using a small dictionary to translate English words into French/"
   ]
  },
  {
   "cell_type": "code",
   "execution_count": 46,
   "id": "temporal-ecuador",
   "metadata": {},
   "outputs": [],
   "source": [
    "def traslation_in_to_french():\n",
    "    dictionary = {\n",
    "        \"hello\": \"bonjour\",\n",
    "        \"go\": \"partir\",\n",
    "        \"night\": \"nuit\"\n",
    "    }\n",
    "    return dictionary.get(word, \"Translation not found\")\n",
    "    print(traslation_in_to_french(\"hello\"))\n",
    "    traslation_in_to_french\n",
    "    "
   ]
  },
  {
   "cell_type": "code",
   "execution_count": 47,
   "id": "physical-asthma",
   "metadata": {},
   "outputs": [
    {
     "data": {
      "text/plain": [
       "['__doc__',\n",
       " '__loader__',\n",
       " '__name__',\n",
       " '__package__',\n",
       " '__spec__',\n",
       " 'acos',\n",
       " 'acosh',\n",
       " 'asin',\n",
       " 'asinh',\n",
       " 'atan',\n",
       " 'atan2',\n",
       " 'atanh',\n",
       " 'ceil',\n",
       " 'comb',\n",
       " 'copysign',\n",
       " 'cos',\n",
       " 'cosh',\n",
       " 'degrees',\n",
       " 'dist',\n",
       " 'e',\n",
       " 'erf',\n",
       " 'erfc',\n",
       " 'exp',\n",
       " 'expm1',\n",
       " 'fabs',\n",
       " 'factorial',\n",
       " 'floor',\n",
       " 'fmod',\n",
       " 'frexp',\n",
       " 'fsum',\n",
       " 'gamma',\n",
       " 'gcd',\n",
       " 'hypot',\n",
       " 'inf',\n",
       " 'isclose',\n",
       " 'isfinite',\n",
       " 'isinf',\n",
       " 'isnan',\n",
       " 'isqrt',\n",
       " 'lcm',\n",
       " 'ldexp',\n",
       " 'lgamma',\n",
       " 'log',\n",
       " 'log10',\n",
       " 'log1p',\n",
       " 'log2',\n",
       " 'modf',\n",
       " 'nan',\n",
       " 'nextafter',\n",
       " 'perm',\n",
       " 'pi',\n",
       " 'pow',\n",
       " 'prod',\n",
       " 'radians',\n",
       " 'remainder',\n",
       " 'sin',\n",
       " 'sinh',\n",
       " 'sqrt',\n",
       " 'tan',\n",
       " 'tanh',\n",
       " 'tau',\n",
       " 'trunc',\n",
       " 'ulp']"
      ]
     },
     "execution_count": 47,
     "metadata": {},
     "output_type": "execute_result"
    }
   ],
   "source": [
    "import math\n",
    "dir(math)  # To see the list of functions and attributes in the module."
   ]
  },
  {
   "cell_type": "code",
   "execution_count": 29,
   "id": "acceptable-kinase",
   "metadata": {},
   "outputs": [
    {
     "name": "stdout",
     "output_type": "stream",
     "text": [
      "mkdir: cannot create directory ‘monpackage’: File exists\r\n"
     ]
    }
   ],
   "source": [
    "! mkdir monpackage"
   ]
  },
  {
   "cell_type": "code",
   "execution_count": 30,
   "id": "accompanied-austin",
   "metadata": {},
   "outputs": [
    {
     "name": "stdout",
     "output_type": "stream",
     "text": [
      "/home/hawa/Downloads/monpackage\n"
     ]
    }
   ],
   "source": [
    "cd monpackage"
   ]
  },
  {
   "cell_type": "code",
   "execution_count": 31,
   "id": "nutritional-execution",
   "metadata": {},
   "outputs": [],
   "source": [
    "!touch __init__.py"
   ]
  },
  {
   "cell_type": "code",
   "execution_count": 32,
   "id": "confirmed-rates",
   "metadata": {},
   "outputs": [],
   "source": [
    "!touch mesfonctions.py"
   ]
  },
  {
   "cell_type": "code",
   "execution_count": 33,
   "id": "inside-shock",
   "metadata": {},
   "outputs": [
    {
     "name": "stdout",
     "output_type": "stream",
     "text": [
      "__init__.py  mesattributs.py  mesfonction.py  mesfonctions.py  __pycache__\r\n"
     ]
    }
   ],
   "source": [
    "!ls"
   ]
  },
  {
   "cell_type": "code",
   "execution_count": 34,
   "id": "urban-victim",
   "metadata": {},
   "outputs": [
    {
     "name": "stdout",
     "output_type": "stream",
     "text": [
      "^C\r\n"
     ]
    }
   ],
   "source": [
    "! gedit mesfonction.py"
   ]
  },
  {
   "cell_type": "code",
   "execution_count": null,
   "id": "permanent-celtic",
   "metadata": {},
   "outputs": [],
   "source": [
    "! touch mesattributs.py"
   ]
  },
  {
   "cell_type": "code",
   "execution_count": 35,
   "id": "brutal-iraqi",
   "metadata": {},
   "outputs": [],
   "source": [
    "!gedit mesattributs.py"
   ]
  },
  {
   "cell_type": "code",
   "execution_count": 41,
   "id": "other-replication",
   "metadata": {},
   "outputs": [],
   "source": [
    "from monpackage import mesfonction"
   ]
  },
  {
   "cell_type": "code",
   "execution_count": 38,
   "id": "iraqi-bride",
   "metadata": {},
   "outputs": [
    {
     "data": {
      "text/plain": [
       "True"
      ]
     },
     "execution_count": 38,
     "metadata": {},
     "output_type": "execute_result"
    }
   ],
   "source": [
    "mesfonction.additionner(23, 89) == 112  # Returns True"
   ]
  },
  {
   "cell_type": "code",
   "execution_count": null,
   "id": "compressed-bobby",
   "metadata": {},
   "outputs": [],
   "source": [
    "mesattributs.x == 100  # Returns True"
   ]
  },
  {
   "cell_type": "code",
   "execution_count": null,
   "id": "turkish-rouge",
   "metadata": {},
   "outputs": [],
   "source": [
    "from monpackage import mesattributs"
   ]
  },
  {
   "cell_type": "code",
   "execution_count": null,
   "id": "prompt-shower",
   "metadata": {},
   "outputs": [],
   "source": []
  }
 ],
 "metadata": {
  "kernelspec": {
   "display_name": "Python 3",
   "language": "python",
   "name": "python3"
  },
  "language_info": {
   "codemirror_mode": {
    "name": "ipython",
    "version": 3
   },
   "file_extension": ".py",
   "mimetype": "text/x-python",
   "name": "python",
   "nbconvert_exporter": "python",
   "pygments_lexer": "ipython3",
   "version": "3.9.2"
  }
 },
 "nbformat": 4,
 "nbformat_minor": 5
}
