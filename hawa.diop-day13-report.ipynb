{
 "cells": [
  {
   "cell_type": "markdown",
   "metadata": {
    "id": "53N3iK03l1e2"
   },
   "source": [
    "# PyPro: Challenge 3"
   ]
  },
  {
   "cell_type": "markdown",
   "metadata": {
    "id": "53N3iK03l1e2"
   },
   "source": [
    "\n",
    "1. **Perfect Numbers Calculation**  \n",
    "By definition, a natural number is called a perfect number if its value is equal to the sum of its divisors. For example, 6 and 28 are perfect numbers:\n",
    "  \n",
    "1 + 2 + 3 = 6\n",
    "1 + 2 + 4 + 7 + 14 = 28\n",
    "Write a function `calc_perfect_numbers(max_exclusive)` that calculates all perfect numbers up to a maximum value, such as 10,000.\n",
    "   "
   ]
  },
  {
   "cell_type": "code",
   "execution_count": 1,
   "metadata": {},
   "outputs": [
    {
     "name": "stdout",
     "output_type": "stream",
     "text": [
      "enter your number : 10000\n",
      "6\n",
      "28\n",
      "496\n",
      "8128\n"
     ]
    }
   ],
   "source": [
    "def perfect_numbers():\n",
    "    x=int(input(\"enter your number : \"))\n",
    "    for i in range(1, x):\n",
    "        p=[]\n",
    "        for j in range(1, i):\n",
    "            if i%j == 0 :\n",
    "                p.append(j)\n",
    "        if sum(p) ==i:\n",
    "            print(i)\n",
    "        \n",
    "perfect_numbers()     "
   ]
  },
  {
   "cell_type": "markdown",
   "metadata": {
    "id": "53N3iK03l1e2"
   },
   "source": [
    " \n",
    "\n",
    "2. **Prime Numbers Calculation**  \n",
    "   Write a function `calc_primes_up_to(max_value)` to compute all prime numbers up to a given value. A prime number is a natural number greater than 1 that is only divisible by 1 and itself. The Sieve of Eratosthenes is a useful algorithm for this task.  \n",
    "   Test your algorithm with the following values:\n",
    "   \n",
    "   | Input | Result                                      |\n",
    "   |-------|---------------------------------------------|\n",
    "   | 15    | [2, 3, 5, 7, 11, 13]                        |\n",
    "   | 25    | [2, 3, 5, 7, 11, 13, 17, 19, 23]            |\n",
    "   | 50    | [2, 3, 5, 7, 11, 13, 17, 19, 23, 29, 31...] |"
   ]
  },
  {
   "cell_type": "code",
   "execution_count": 2,
   "metadata": {},
   "outputs": [
    {
     "name": "stdout",
     "output_type": "stream",
     "text": [
      "enter your number : 15\n",
      "2\n",
      "3\n",
      "5\n",
      "7\n",
      "11\n",
      "13\n"
     ]
    }
   ],
   "source": [
    "def primes_up():\n",
    "    x=int(input(\"enter your number : \"))\n",
    "    for i in range(1, x+1):\n",
    "        p=[1]\n",
    "        for j in range(2, i+1):\n",
    "            if i%j == 0 :\n",
    "                p.append(j)\n",
    "        if len(p) ==2:\n",
    "            print(i)\n",
    "        \n",
    "primes_up()          "
   ]
  },
  {
   "cell_type": "markdown",
   "metadata": {
    "id": "53N3iK03l1e2"
   },
   "source": [
    "4. **Sum of Digits (Recursive)**  \n",
    "   Write a recursive function `calc_sum_of_digits(value)` that calculates the sum of the digits of a given number.  \n",
    "   Examples:\n",
    "   \n",
    "   | Input  | Number of Digits | Cross Sum         |\n",
    "   |--------|------------------|-------------------|\n",
    "   | 1234   | 4                | 1 + 2 + 3 + 4 = 10|\n",
    "   | 1234567| 7                | 1 + 2 + 3 + ... 7 = 28|"
   ]
  },
  {
   "cell_type": "code",
   "execution_count": 3,
   "metadata": {},
   "outputs": [
    {
     "name": "stdout",
     "output_type": "stream",
     "text": [
      "enter your number : 1234\n"
     ]
    },
    {
     "data": {
      "text/plain": [
       "(10, 4)"
      ]
     },
     "execution_count": 3,
     "metadata": {},
     "output_type": "execute_result"
    }
   ],
   "source": [
    "def sum_of_digits(y):\n",
    "    return sum(y), len(y)\n",
    "\n",
    "x=input(\"enter your number : \")\n",
    "y = [int(i) for i in x]\n",
    "sum_of_digits(y)"
   ]
  },
  {
   "cell_type": "markdown",
   "metadata": {
    "id": "53N3iK03l1e2"
   },
   "source": [
    "5. **Convert to Binary (Recursive)**  \n",
    "   Write a function `to_binary(n)` that recursively converts the given positive integer into its binary string representation (without using `int(x, base)`).  \n",
    "   Examples:\n",
    "   \n",
    "   | Input | Result       |\n",
    "   |-------|--------------|\n",
    "   | 5     | \"101\"        |\n",
    "   | 7     | \"111\"        |\n",
    "   | 22    | \"10110\"      |\n",
    "   | 42    | \"101010\"     |\n",
    "   | 256   | \"100000000\"  |"
   ]
  },
  {
   "cell_type": "code",
   "execution_count": 5,
   "metadata": {},
   "outputs": [
    {
     "data": {
      "text/plain": [
       "101010"
      ]
     },
     "execution_count": 5,
     "metadata": {},
     "output_type": "execute_result"
    }
   ],
   "source": [
    "def to_binary(n):\n",
    "    if n == 0:\n",
    "        return 0 \n",
    "    else:\n",
    "        return(n % 2 + 10 * to_binary(int(n//2)))\n",
    "    n=10\n",
    "    print(to_binary(n))\n",
    "to_binary(42)"
   ]
  }
 ],
 "metadata": {
  "colab": {
   "provenance": []
  },
  "kernelspec": {
   "display_name": "Python 3",
   "language": "python",
   "name": "python3"
  },
  "language_info": {
   "codemirror_mode": {
    "name": "ipython",
    "version": 3
   },
   "file_extension": ".py",
   "mimetype": "text/x-python",
   "name": "python",
   "nbconvert_exporter": "python",
   "pygments_lexer": "ipython3",
   "version": "3.9.2"
  }
 },
 "nbformat": 4,
 "nbformat_minor": 1
}
